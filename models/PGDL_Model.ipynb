{
  "nbformat": 4,
  "nbformat_minor": 0,
  "metadata": {
    "colab": {
      "name": "PGDL_Model.ipynb",
      "provenance": [],
      "collapsed_sections": [],
      "toc_visible": true
    },
    "kernelspec": {
      "name": "python3",
      "display_name": "Python 3"
    },
    "widgets": {
      "application/vnd.jupyter.widget-state+json": {
        "da22486e7d514a5ab7138f39aff7feb9": {
          "model_module": "@jupyter-widgets/controls",
          "model_name": "HBoxModel",
          "state": {
            "_view_name": "HBoxView",
            "_dom_classes": [],
            "_model_name": "HBoxModel",
            "_view_module": "@jupyter-widgets/controls",
            "_model_module_version": "1.5.0",
            "_view_count": null,
            "_view_module_version": "1.5.0",
            "box_style": "",
            "layout": "IPY_MODEL_5b55a931fac24a5e83bb43a0dd3f18ea",
            "_model_module": "@jupyter-widgets/controls",
            "children": [
              "IPY_MODEL_09566028851b414f84584ddc0ecbc762",
              "IPY_MODEL_91800ca7a22044ada25e6a49c4fc2be3"
            ]
          }
        },
        "5b55a931fac24a5e83bb43a0dd3f18ea": {
          "model_module": "@jupyter-widgets/base",
          "model_name": "LayoutModel",
          "state": {
            "_view_name": "LayoutView",
            "grid_template_rows": null,
            "right": null,
            "justify_content": null,
            "_view_module": "@jupyter-widgets/base",
            "overflow": null,
            "_model_module_version": "1.2.0",
            "_view_count": null,
            "flex_flow": null,
            "width": null,
            "min_width": null,
            "border": null,
            "align_items": null,
            "bottom": null,
            "_model_module": "@jupyter-widgets/base",
            "top": null,
            "grid_column": null,
            "overflow_y": null,
            "overflow_x": null,
            "grid_auto_flow": null,
            "grid_area": null,
            "grid_template_columns": null,
            "flex": null,
            "_model_name": "LayoutModel",
            "justify_items": null,
            "grid_row": null,
            "max_height": null,
            "align_content": null,
            "visibility": null,
            "align_self": null,
            "height": null,
            "min_height": null,
            "padding": null,
            "grid_auto_rows": null,
            "grid_gap": null,
            "max_width": null,
            "order": null,
            "_view_module_version": "1.2.0",
            "grid_template_areas": null,
            "object_position": null,
            "object_fit": null,
            "grid_auto_columns": null,
            "margin": null,
            "display": null,
            "left": null
          }
        },
        "09566028851b414f84584ddc0ecbc762": {
          "model_module": "@jupyter-widgets/controls",
          "model_name": "FloatProgressModel",
          "state": {
            "_view_name": "ProgressView",
            "style": "IPY_MODEL_a9ab674d9dae4f03a71ddff73285538e",
            "_dom_classes": [],
            "description": "Dl Completed...: 100%",
            "_model_name": "FloatProgressModel",
            "bar_style": "success",
            "max": 1,
            "_view_module": "@jupyter-widgets/controls",
            "_model_module_version": "1.5.0",
            "value": 1,
            "_view_count": null,
            "_view_module_version": "1.5.0",
            "orientation": "horizontal",
            "min": 0,
            "description_tooltip": null,
            "_model_module": "@jupyter-widgets/controls",
            "layout": "IPY_MODEL_f3fc83df45a04cd3997fe10ec5a342e7"
          }
        },
        "91800ca7a22044ada25e6a49c4fc2be3": {
          "model_module": "@jupyter-widgets/controls",
          "model_name": "HTMLModel",
          "state": {
            "_view_name": "HTMLView",
            "style": "IPY_MODEL_f8f8a0a379c646759c7f5135ed00f636",
            "_dom_classes": [],
            "description": "",
            "_model_name": "HTMLModel",
            "placeholder": "​",
            "_view_module": "@jupyter-widgets/controls",
            "_model_module_version": "1.5.0",
            "value": " 1/1 [00:05&lt;00:00,  5.77s/ url]",
            "_view_count": null,
            "_view_module_version": "1.5.0",
            "description_tooltip": null,
            "_model_module": "@jupyter-widgets/controls",
            "layout": "IPY_MODEL_a053c4f8c57947f388177f83e2323fcb"
          }
        },
        "a9ab674d9dae4f03a71ddff73285538e": {
          "model_module": "@jupyter-widgets/controls",
          "model_name": "ProgressStyleModel",
          "state": {
            "_view_name": "StyleView",
            "_model_name": "ProgressStyleModel",
            "description_width": "initial",
            "_view_module": "@jupyter-widgets/base",
            "_model_module_version": "1.5.0",
            "_view_count": null,
            "_view_module_version": "1.2.0",
            "bar_color": null,
            "_model_module": "@jupyter-widgets/controls"
          }
        },
        "f3fc83df45a04cd3997fe10ec5a342e7": {
          "model_module": "@jupyter-widgets/base",
          "model_name": "LayoutModel",
          "state": {
            "_view_name": "LayoutView",
            "grid_template_rows": null,
            "right": null,
            "justify_content": null,
            "_view_module": "@jupyter-widgets/base",
            "overflow": null,
            "_model_module_version": "1.2.0",
            "_view_count": null,
            "flex_flow": null,
            "width": null,
            "min_width": null,
            "border": null,
            "align_items": null,
            "bottom": null,
            "_model_module": "@jupyter-widgets/base",
            "top": null,
            "grid_column": null,
            "overflow_y": null,
            "overflow_x": null,
            "grid_auto_flow": null,
            "grid_area": null,
            "grid_template_columns": null,
            "flex": null,
            "_model_name": "LayoutModel",
            "justify_items": null,
            "grid_row": null,
            "max_height": null,
            "align_content": null,
            "visibility": null,
            "align_self": null,
            "height": null,
            "min_height": null,
            "padding": null,
            "grid_auto_rows": null,
            "grid_gap": null,
            "max_width": null,
            "order": null,
            "_view_module_version": "1.2.0",
            "grid_template_areas": null,
            "object_position": null,
            "object_fit": null,
            "grid_auto_columns": null,
            "margin": null,
            "display": null,
            "left": null
          }
        },
        "f8f8a0a379c646759c7f5135ed00f636": {
          "model_module": "@jupyter-widgets/controls",
          "model_name": "DescriptionStyleModel",
          "state": {
            "_view_name": "StyleView",
            "_model_name": "DescriptionStyleModel",
            "description_width": "",
            "_view_module": "@jupyter-widgets/base",
            "_model_module_version": "1.5.0",
            "_view_count": null,
            "_view_module_version": "1.2.0",
            "_model_module": "@jupyter-widgets/controls"
          }
        },
        "a053c4f8c57947f388177f83e2323fcb": {
          "model_module": "@jupyter-widgets/base",
          "model_name": "LayoutModel",
          "state": {
            "_view_name": "LayoutView",
            "grid_template_rows": null,
            "right": null,
            "justify_content": null,
            "_view_module": "@jupyter-widgets/base",
            "overflow": null,
            "_model_module_version": "1.2.0",
            "_view_count": null,
            "flex_flow": null,
            "width": null,
            "min_width": null,
            "border": null,
            "align_items": null,
            "bottom": null,
            "_model_module": "@jupyter-widgets/base",
            "top": null,
            "grid_column": null,
            "overflow_y": null,
            "overflow_x": null,
            "grid_auto_flow": null,
            "grid_area": null,
            "grid_template_columns": null,
            "flex": null,
            "_model_name": "LayoutModel",
            "justify_items": null,
            "grid_row": null,
            "max_height": null,
            "align_content": null,
            "visibility": null,
            "align_self": null,
            "height": null,
            "min_height": null,
            "padding": null,
            "grid_auto_rows": null,
            "grid_gap": null,
            "max_width": null,
            "order": null,
            "_view_module_version": "1.2.0",
            "grid_template_areas": null,
            "object_position": null,
            "object_fit": null,
            "grid_auto_columns": null,
            "margin": null,
            "display": null,
            "left": null
          }
        },
        "663e5ce2c3d9415dae667043ab170a67": {
          "model_module": "@jupyter-widgets/controls",
          "model_name": "HBoxModel",
          "state": {
            "_view_name": "HBoxView",
            "_dom_classes": [],
            "_model_name": "HBoxModel",
            "_view_module": "@jupyter-widgets/controls",
            "_model_module_version": "1.5.0",
            "_view_count": null,
            "_view_module_version": "1.5.0",
            "box_style": "",
            "layout": "IPY_MODEL_e78fad720e90459fa5467df9bbf25e0f",
            "_model_module": "@jupyter-widgets/controls",
            "children": [
              "IPY_MODEL_88c79fa38acb4edf8179611d14d6b74f",
              "IPY_MODEL_1764f7e4291a4f74a87666b99a22dbed"
            ]
          }
        },
        "e78fad720e90459fa5467df9bbf25e0f": {
          "model_module": "@jupyter-widgets/base",
          "model_name": "LayoutModel",
          "state": {
            "_view_name": "LayoutView",
            "grid_template_rows": null,
            "right": null,
            "justify_content": null,
            "_view_module": "@jupyter-widgets/base",
            "overflow": null,
            "_model_module_version": "1.2.0",
            "_view_count": null,
            "flex_flow": null,
            "width": null,
            "min_width": null,
            "border": null,
            "align_items": null,
            "bottom": null,
            "_model_module": "@jupyter-widgets/base",
            "top": null,
            "grid_column": null,
            "overflow_y": null,
            "overflow_x": null,
            "grid_auto_flow": null,
            "grid_area": null,
            "grid_template_columns": null,
            "flex": null,
            "_model_name": "LayoutModel",
            "justify_items": null,
            "grid_row": null,
            "max_height": null,
            "align_content": null,
            "visibility": null,
            "align_self": null,
            "height": null,
            "min_height": null,
            "padding": null,
            "grid_auto_rows": null,
            "grid_gap": null,
            "max_width": null,
            "order": null,
            "_view_module_version": "1.2.0",
            "grid_template_areas": null,
            "object_position": null,
            "object_fit": null,
            "grid_auto_columns": null,
            "margin": null,
            "display": null,
            "left": null
          }
        },
        "88c79fa38acb4edf8179611d14d6b74f": {
          "model_module": "@jupyter-widgets/controls",
          "model_name": "FloatProgressModel",
          "state": {
            "_view_name": "ProgressView",
            "style": "IPY_MODEL_bb76b2a2876f4fe6baccfd600dc8f03d",
            "_dom_classes": [],
            "description": "Dl Size...: 100%",
            "_model_name": "FloatProgressModel",
            "bar_style": "success",
            "max": 1,
            "_view_module": "@jupyter-widgets/controls",
            "_model_module_version": "1.5.0",
            "value": 1,
            "_view_count": null,
            "_view_module_version": "1.5.0",
            "orientation": "horizontal",
            "min": 0,
            "description_tooltip": null,
            "_model_module": "@jupyter-widgets/controls",
            "layout": "IPY_MODEL_47f29372a1d94b92a77f73eab5865633"
          }
        },
        "1764f7e4291a4f74a87666b99a22dbed": {
          "model_module": "@jupyter-widgets/controls",
          "model_name": "HTMLModel",
          "state": {
            "_view_name": "HTMLView",
            "style": "IPY_MODEL_684f7edfad244654957ab7991c21d10b",
            "_dom_classes": [],
            "description": "",
            "_model_name": "HTMLModel",
            "placeholder": "​",
            "_view_module": "@jupyter-widgets/controls",
            "_model_module_version": "1.5.0",
            "value": " 162/162 [00:05&lt;00:00, 28.20 MiB/s]",
            "_view_count": null,
            "_view_module_version": "1.5.0",
            "description_tooltip": null,
            "_model_module": "@jupyter-widgets/controls",
            "layout": "IPY_MODEL_ecf142372be94e6380e8fcad809e6b37"
          }
        },
        "bb76b2a2876f4fe6baccfd600dc8f03d": {
          "model_module": "@jupyter-widgets/controls",
          "model_name": "ProgressStyleModel",
          "state": {
            "_view_name": "StyleView",
            "_model_name": "ProgressStyleModel",
            "description_width": "initial",
            "_view_module": "@jupyter-widgets/base",
            "_model_module_version": "1.5.0",
            "_view_count": null,
            "_view_module_version": "1.2.0",
            "bar_color": null,
            "_model_module": "@jupyter-widgets/controls"
          }
        },
        "47f29372a1d94b92a77f73eab5865633": {
          "model_module": "@jupyter-widgets/base",
          "model_name": "LayoutModel",
          "state": {
            "_view_name": "LayoutView",
            "grid_template_rows": null,
            "right": null,
            "justify_content": null,
            "_view_module": "@jupyter-widgets/base",
            "overflow": null,
            "_model_module_version": "1.2.0",
            "_view_count": null,
            "flex_flow": null,
            "width": null,
            "min_width": null,
            "border": null,
            "align_items": null,
            "bottom": null,
            "_model_module": "@jupyter-widgets/base",
            "top": null,
            "grid_column": null,
            "overflow_y": null,
            "overflow_x": null,
            "grid_auto_flow": null,
            "grid_area": null,
            "grid_template_columns": null,
            "flex": null,
            "_model_name": "LayoutModel",
            "justify_items": null,
            "grid_row": null,
            "max_height": null,
            "align_content": null,
            "visibility": null,
            "align_self": null,
            "height": null,
            "min_height": null,
            "padding": null,
            "grid_auto_rows": null,
            "grid_gap": null,
            "max_width": null,
            "order": null,
            "_view_module_version": "1.2.0",
            "grid_template_areas": null,
            "object_position": null,
            "object_fit": null,
            "grid_auto_columns": null,
            "margin": null,
            "display": null,
            "left": null
          }
        },
        "684f7edfad244654957ab7991c21d10b": {
          "model_module": "@jupyter-widgets/controls",
          "model_name": "DescriptionStyleModel",
          "state": {
            "_view_name": "StyleView",
            "_model_name": "DescriptionStyleModel",
            "description_width": "",
            "_view_module": "@jupyter-widgets/base",
            "_model_module_version": "1.5.0",
            "_view_count": null,
            "_view_module_version": "1.2.0",
            "_model_module": "@jupyter-widgets/controls"
          }
        },
        "ecf142372be94e6380e8fcad809e6b37": {
          "model_module": "@jupyter-widgets/base",
          "model_name": "LayoutModel",
          "state": {
            "_view_name": "LayoutView",
            "grid_template_rows": null,
            "right": null,
            "justify_content": null,
            "_view_module": "@jupyter-widgets/base",
            "overflow": null,
            "_model_module_version": "1.2.0",
            "_view_count": null,
            "flex_flow": null,
            "width": null,
            "min_width": null,
            "border": null,
            "align_items": null,
            "bottom": null,
            "_model_module": "@jupyter-widgets/base",
            "top": null,
            "grid_column": null,
            "overflow_y": null,
            "overflow_x": null,
            "grid_auto_flow": null,
            "grid_area": null,
            "grid_template_columns": null,
            "flex": null,
            "_model_name": "LayoutModel",
            "justify_items": null,
            "grid_row": null,
            "max_height": null,
            "align_content": null,
            "visibility": null,
            "align_self": null,
            "height": null,
            "min_height": null,
            "padding": null,
            "grid_auto_rows": null,
            "grid_gap": null,
            "max_width": null,
            "order": null,
            "_view_module_version": "1.2.0",
            "grid_template_areas": null,
            "object_position": null,
            "object_fit": null,
            "grid_auto_columns": null,
            "margin": null,
            "display": null,
            "left": null
          }
        },
        "c16e6870ac004155859c227f482f4255": {
          "model_module": "@jupyter-widgets/controls",
          "model_name": "HBoxModel",
          "state": {
            "_view_name": "HBoxView",
            "_dom_classes": [],
            "_model_name": "HBoxModel",
            "_view_module": "@jupyter-widgets/controls",
            "_model_module_version": "1.5.0",
            "_view_count": null,
            "_view_module_version": "1.5.0",
            "box_style": "",
            "layout": "IPY_MODEL_fc9cef7c6afe4052bf324e5c1ffee702",
            "_model_module": "@jupyter-widgets/controls",
            "children": [
              "IPY_MODEL_c0b03409659b4c61a41ccbffecfce319",
              "IPY_MODEL_a533c86b79f943aea1ae71c9a440d852"
            ]
          }
        },
        "fc9cef7c6afe4052bf324e5c1ffee702": {
          "model_module": "@jupyter-widgets/base",
          "model_name": "LayoutModel",
          "state": {
            "_view_name": "LayoutView",
            "grid_template_rows": null,
            "right": null,
            "justify_content": null,
            "_view_module": "@jupyter-widgets/base",
            "overflow": null,
            "_model_module_version": "1.2.0",
            "_view_count": null,
            "flex_flow": null,
            "width": null,
            "min_width": null,
            "border": null,
            "align_items": null,
            "bottom": null,
            "_model_module": "@jupyter-widgets/base",
            "top": null,
            "grid_column": null,
            "overflow_y": null,
            "overflow_x": null,
            "grid_auto_flow": null,
            "grid_area": null,
            "grid_template_columns": null,
            "flex": null,
            "_model_name": "LayoutModel",
            "justify_items": null,
            "grid_row": null,
            "max_height": null,
            "align_content": null,
            "visibility": null,
            "align_self": null,
            "height": null,
            "min_height": null,
            "padding": null,
            "grid_auto_rows": null,
            "grid_gap": null,
            "max_width": null,
            "order": null,
            "_view_module_version": "1.2.0",
            "grid_template_areas": null,
            "object_position": null,
            "object_fit": null,
            "grid_auto_columns": null,
            "margin": null,
            "display": null,
            "left": null
          }
        },
        "c0b03409659b4c61a41ccbffecfce319": {
          "model_module": "@jupyter-widgets/controls",
          "model_name": "FloatProgressModel",
          "state": {
            "_view_name": "ProgressView",
            "style": "IPY_MODEL_8ad6a1e908d943ed875d0cd80bf5be3a",
            "_dom_classes": [],
            "description": "Extraction completed...: 100%",
            "_model_name": "FloatProgressModel",
            "bar_style": "success",
            "max": 1,
            "_view_module": "@jupyter-widgets/controls",
            "_model_module_version": "1.5.0",
            "value": 1,
            "_view_count": null,
            "_view_module_version": "1.5.0",
            "orientation": "horizontal",
            "min": 0,
            "description_tooltip": null,
            "_model_module": "@jupyter-widgets/controls",
            "layout": "IPY_MODEL_c4b67be55fd84b059b5c316eb88b1d8a"
          }
        },
        "a533c86b79f943aea1ae71c9a440d852": {
          "model_module": "@jupyter-widgets/controls",
          "model_name": "HTMLModel",
          "state": {
            "_view_name": "HTMLView",
            "style": "IPY_MODEL_3f0105fb88c14e0c950cf105aba3efc5",
            "_dom_classes": [],
            "description": "",
            "_model_name": "HTMLModel",
            "placeholder": "​",
            "_view_module": "@jupyter-widgets/controls",
            "_model_module_version": "1.5.0",
            "value": " 1/1 [00:05&lt;00:00,  5.70s/ file]",
            "_view_count": null,
            "_view_module_version": "1.5.0",
            "description_tooltip": null,
            "_model_module": "@jupyter-widgets/controls",
            "layout": "IPY_MODEL_5240f060d9eb47f7babc125834e0dbc9"
          }
        },
        "8ad6a1e908d943ed875d0cd80bf5be3a": {
          "model_module": "@jupyter-widgets/controls",
          "model_name": "ProgressStyleModel",
          "state": {
            "_view_name": "StyleView",
            "_model_name": "ProgressStyleModel",
            "description_width": "initial",
            "_view_module": "@jupyter-widgets/base",
            "_model_module_version": "1.5.0",
            "_view_count": null,
            "_view_module_version": "1.2.0",
            "bar_color": null,
            "_model_module": "@jupyter-widgets/controls"
          }
        },
        "c4b67be55fd84b059b5c316eb88b1d8a": {
          "model_module": "@jupyter-widgets/base",
          "model_name": "LayoutModel",
          "state": {
            "_view_name": "LayoutView",
            "grid_template_rows": null,
            "right": null,
            "justify_content": null,
            "_view_module": "@jupyter-widgets/base",
            "overflow": null,
            "_model_module_version": "1.2.0",
            "_view_count": null,
            "flex_flow": null,
            "width": null,
            "min_width": null,
            "border": null,
            "align_items": null,
            "bottom": null,
            "_model_module": "@jupyter-widgets/base",
            "top": null,
            "grid_column": null,
            "overflow_y": null,
            "overflow_x": null,
            "grid_auto_flow": null,
            "grid_area": null,
            "grid_template_columns": null,
            "flex": null,
            "_model_name": "LayoutModel",
            "justify_items": null,
            "grid_row": null,
            "max_height": null,
            "align_content": null,
            "visibility": null,
            "align_self": null,
            "height": null,
            "min_height": null,
            "padding": null,
            "grid_auto_rows": null,
            "grid_gap": null,
            "max_width": null,
            "order": null,
            "_view_module_version": "1.2.0",
            "grid_template_areas": null,
            "object_position": null,
            "object_fit": null,
            "grid_auto_columns": null,
            "margin": null,
            "display": null,
            "left": null
          }
        },
        "3f0105fb88c14e0c950cf105aba3efc5": {
          "model_module": "@jupyter-widgets/controls",
          "model_name": "DescriptionStyleModel",
          "state": {
            "_view_name": "StyleView",
            "_model_name": "DescriptionStyleModel",
            "description_width": "",
            "_view_module": "@jupyter-widgets/base",
            "_model_module_version": "1.5.0",
            "_view_count": null,
            "_view_module_version": "1.2.0",
            "_model_module": "@jupyter-widgets/controls"
          }
        },
        "5240f060d9eb47f7babc125834e0dbc9": {
          "model_module": "@jupyter-widgets/base",
          "model_name": "LayoutModel",
          "state": {
            "_view_name": "LayoutView",
            "grid_template_rows": null,
            "right": null,
            "justify_content": null,
            "_view_module": "@jupyter-widgets/base",
            "overflow": null,
            "_model_module_version": "1.2.0",
            "_view_count": null,
            "flex_flow": null,
            "width": null,
            "min_width": null,
            "border": null,
            "align_items": null,
            "bottom": null,
            "_model_module": "@jupyter-widgets/base",
            "top": null,
            "grid_column": null,
            "overflow_y": null,
            "overflow_x": null,
            "grid_auto_flow": null,
            "grid_area": null,
            "grid_template_columns": null,
            "flex": null,
            "_model_name": "LayoutModel",
            "justify_items": null,
            "grid_row": null,
            "max_height": null,
            "align_content": null,
            "visibility": null,
            "align_self": null,
            "height": null,
            "min_height": null,
            "padding": null,
            "grid_auto_rows": null,
            "grid_gap": null,
            "max_width": null,
            "order": null,
            "_view_module_version": "1.2.0",
            "grid_template_areas": null,
            "object_position": null,
            "object_fit": null,
            "grid_auto_columns": null,
            "margin": null,
            "display": null,
            "left": null
          }
        },
        "d4150dd337414591a02de80c9d6a7097": {
          "model_module": "@jupyter-widgets/controls",
          "model_name": "HBoxModel",
          "state": {
            "_view_name": "HBoxView",
            "_dom_classes": [],
            "_model_name": "HBoxModel",
            "_view_module": "@jupyter-widgets/controls",
            "_model_module_version": "1.5.0",
            "_view_count": null,
            "_view_module_version": "1.5.0",
            "box_style": "",
            "layout": "IPY_MODEL_58aebf8b5eef4e3da9753d0c8165368a",
            "_model_module": "@jupyter-widgets/controls",
            "children": [
              "IPY_MODEL_a58cef83380240cba09846e8021b3a95",
              "IPY_MODEL_031f16ef932e448e84ff7896c99a1178"
            ]
          }
        },
        "58aebf8b5eef4e3da9753d0c8165368a": {
          "model_module": "@jupyter-widgets/base",
          "model_name": "LayoutModel",
          "state": {
            "_view_name": "LayoutView",
            "grid_template_rows": null,
            "right": null,
            "justify_content": null,
            "_view_module": "@jupyter-widgets/base",
            "overflow": null,
            "_model_module_version": "1.2.0",
            "_view_count": null,
            "flex_flow": null,
            "width": null,
            "min_width": null,
            "border": null,
            "align_items": null,
            "bottom": null,
            "_model_module": "@jupyter-widgets/base",
            "top": null,
            "grid_column": null,
            "overflow_y": null,
            "overflow_x": null,
            "grid_auto_flow": null,
            "grid_area": null,
            "grid_template_columns": null,
            "flex": null,
            "_model_name": "LayoutModel",
            "justify_items": null,
            "grid_row": null,
            "max_height": null,
            "align_content": null,
            "visibility": null,
            "align_self": null,
            "height": null,
            "min_height": null,
            "padding": null,
            "grid_auto_rows": null,
            "grid_gap": null,
            "max_width": null,
            "order": null,
            "_view_module_version": "1.2.0",
            "grid_template_areas": null,
            "object_position": null,
            "object_fit": null,
            "grid_auto_columns": null,
            "margin": null,
            "display": null,
            "left": null
          }
        },
        "a58cef83380240cba09846e8021b3a95": {
          "model_module": "@jupyter-widgets/controls",
          "model_name": "FloatProgressModel",
          "state": {
            "_view_name": "ProgressView",
            "style": "IPY_MODEL_8be1bda4129743458f68d8953afae5d7",
            "_dom_classes": [],
            "description": "",
            "_model_name": "FloatProgressModel",
            "bar_style": "info",
            "max": 1,
            "_view_module": "@jupyter-widgets/controls",
            "_model_module_version": "1.5.0",
            "value": 1,
            "_view_count": null,
            "_view_module_version": "1.5.0",
            "orientation": "horizontal",
            "min": 0,
            "description_tooltip": null,
            "_model_module": "@jupyter-widgets/controls",
            "layout": "IPY_MODEL_942c23e4b0cc4102ad7adfb67308f407"
          }
        },
        "031f16ef932e448e84ff7896c99a1178": {
          "model_module": "@jupyter-widgets/controls",
          "model_name": "HTMLModel",
          "state": {
            "_view_name": "HTMLView",
            "style": "IPY_MODEL_bc7b977990574f538e93c3df6f22251b",
            "_dom_classes": [],
            "description": "",
            "_model_name": "HTMLModel",
            "placeholder": "​",
            "_view_module": "@jupyter-widgets/controls",
            "_model_module_version": "1.5.0",
            "value": " 50000/0 [00:26&lt;00:00, 1990.14 examples/s]",
            "_view_count": null,
            "_view_module_version": "1.5.0",
            "description_tooltip": null,
            "_model_module": "@jupyter-widgets/controls",
            "layout": "IPY_MODEL_dc1c8c9b845447f48a09f1d3d54d8252"
          }
        },
        "8be1bda4129743458f68d8953afae5d7": {
          "model_module": "@jupyter-widgets/controls",
          "model_name": "ProgressStyleModel",
          "state": {
            "_view_name": "StyleView",
            "_model_name": "ProgressStyleModel",
            "description_width": "initial",
            "_view_module": "@jupyter-widgets/base",
            "_model_module_version": "1.5.0",
            "_view_count": null,
            "_view_module_version": "1.2.0",
            "bar_color": null,
            "_model_module": "@jupyter-widgets/controls"
          }
        },
        "942c23e4b0cc4102ad7adfb67308f407": {
          "model_module": "@jupyter-widgets/base",
          "model_name": "LayoutModel",
          "state": {
            "_view_name": "LayoutView",
            "grid_template_rows": null,
            "right": null,
            "justify_content": null,
            "_view_module": "@jupyter-widgets/base",
            "overflow": null,
            "_model_module_version": "1.2.0",
            "_view_count": null,
            "flex_flow": null,
            "width": null,
            "min_width": null,
            "border": null,
            "align_items": null,
            "bottom": null,
            "_model_module": "@jupyter-widgets/base",
            "top": null,
            "grid_column": null,
            "overflow_y": null,
            "overflow_x": null,
            "grid_auto_flow": null,
            "grid_area": null,
            "grid_template_columns": null,
            "flex": null,
            "_model_name": "LayoutModel",
            "justify_items": null,
            "grid_row": null,
            "max_height": null,
            "align_content": null,
            "visibility": null,
            "align_self": null,
            "height": null,
            "min_height": null,
            "padding": null,
            "grid_auto_rows": null,
            "grid_gap": null,
            "max_width": null,
            "order": null,
            "_view_module_version": "1.2.0",
            "grid_template_areas": null,
            "object_position": null,
            "object_fit": null,
            "grid_auto_columns": null,
            "margin": null,
            "display": null,
            "left": null
          }
        },
        "bc7b977990574f538e93c3df6f22251b": {
          "model_module": "@jupyter-widgets/controls",
          "model_name": "DescriptionStyleModel",
          "state": {
            "_view_name": "StyleView",
            "_model_name": "DescriptionStyleModel",
            "description_width": "",
            "_view_module": "@jupyter-widgets/base",
            "_model_module_version": "1.5.0",
            "_view_count": null,
            "_view_module_version": "1.2.0",
            "_model_module": "@jupyter-widgets/controls"
          }
        },
        "dc1c8c9b845447f48a09f1d3d54d8252": {
          "model_module": "@jupyter-widgets/base",
          "model_name": "LayoutModel",
          "state": {
            "_view_name": "LayoutView",
            "grid_template_rows": null,
            "right": null,
            "justify_content": null,
            "_view_module": "@jupyter-widgets/base",
            "overflow": null,
            "_model_module_version": "1.2.0",
            "_view_count": null,
            "flex_flow": null,
            "width": null,
            "min_width": null,
            "border": null,
            "align_items": null,
            "bottom": null,
            "_model_module": "@jupyter-widgets/base",
            "top": null,
            "grid_column": null,
            "overflow_y": null,
            "overflow_x": null,
            "grid_auto_flow": null,
            "grid_area": null,
            "grid_template_columns": null,
            "flex": null,
            "_model_name": "LayoutModel",
            "justify_items": null,
            "grid_row": null,
            "max_height": null,
            "align_content": null,
            "visibility": null,
            "align_self": null,
            "height": null,
            "min_height": null,
            "padding": null,
            "grid_auto_rows": null,
            "grid_gap": null,
            "max_width": null,
            "order": null,
            "_view_module_version": "1.2.0",
            "grid_template_areas": null,
            "object_position": null,
            "object_fit": null,
            "grid_auto_columns": null,
            "margin": null,
            "display": null,
            "left": null
          }
        },
        "f951a4fb6d3047d39ff67ae16bc821b4": {
          "model_module": "@jupyter-widgets/controls",
          "model_name": "HBoxModel",
          "state": {
            "_view_name": "HBoxView",
            "_dom_classes": [],
            "_model_name": "HBoxModel",
            "_view_module": "@jupyter-widgets/controls",
            "_model_module_version": "1.5.0",
            "_view_count": null,
            "_view_module_version": "1.5.0",
            "box_style": "",
            "layout": "IPY_MODEL_c76d9d9a950946ef88281de59a9c2501",
            "_model_module": "@jupyter-widgets/controls",
            "children": [
              "IPY_MODEL_3164510b8b0240f3b901c8ff12c791a8",
              "IPY_MODEL_26f23b7738ec421cb36f8dbb63bdd286"
            ]
          }
        },
        "c76d9d9a950946ef88281de59a9c2501": {
          "model_module": "@jupyter-widgets/base",
          "model_name": "LayoutModel",
          "state": {
            "_view_name": "LayoutView",
            "grid_template_rows": null,
            "right": null,
            "justify_content": null,
            "_view_module": "@jupyter-widgets/base",
            "overflow": null,
            "_model_module_version": "1.2.0",
            "_view_count": null,
            "flex_flow": null,
            "width": null,
            "min_width": null,
            "border": null,
            "align_items": null,
            "bottom": null,
            "_model_module": "@jupyter-widgets/base",
            "top": null,
            "grid_column": null,
            "overflow_y": null,
            "overflow_x": null,
            "grid_auto_flow": null,
            "grid_area": null,
            "grid_template_columns": null,
            "flex": null,
            "_model_name": "LayoutModel",
            "justify_items": null,
            "grid_row": null,
            "max_height": null,
            "align_content": null,
            "visibility": null,
            "align_self": null,
            "height": null,
            "min_height": null,
            "padding": null,
            "grid_auto_rows": null,
            "grid_gap": null,
            "max_width": null,
            "order": null,
            "_view_module_version": "1.2.0",
            "grid_template_areas": null,
            "object_position": null,
            "object_fit": null,
            "grid_auto_columns": null,
            "margin": null,
            "display": null,
            "left": null
          }
        },
        "3164510b8b0240f3b901c8ff12c791a8": {
          "model_module": "@jupyter-widgets/controls",
          "model_name": "FloatProgressModel",
          "state": {
            "_view_name": "ProgressView",
            "style": "IPY_MODEL_34b17afb5f914ebf91d88e43e3b8866d",
            "_dom_classes": [],
            "description": " 57%",
            "_model_name": "FloatProgressModel",
            "bar_style": "danger",
            "max": 50000,
            "_view_module": "@jupyter-widgets/controls",
            "_model_module_version": "1.5.0",
            "value": 28574,
            "_view_count": null,
            "_view_module_version": "1.5.0",
            "orientation": "horizontal",
            "min": 0,
            "description_tooltip": null,
            "_model_module": "@jupyter-widgets/controls",
            "layout": "IPY_MODEL_c0e333e0c9274617b3bd14ab448965cb"
          }
        },
        "26f23b7738ec421cb36f8dbb63bdd286": {
          "model_module": "@jupyter-widgets/controls",
          "model_name": "HTMLModel",
          "state": {
            "_view_name": "HTMLView",
            "style": "IPY_MODEL_032b91f1b1584a738736672b7fee3935",
            "_dom_classes": [],
            "description": "",
            "_model_name": "HTMLModel",
            "placeholder": "​",
            "_view_module": "@jupyter-widgets/controls",
            "_model_module_version": "1.5.0",
            "value": " 28574/50000 [00:00&lt;00:00, 91048.34 examples/s]",
            "_view_count": null,
            "_view_module_version": "1.5.0",
            "description_tooltip": null,
            "_model_module": "@jupyter-widgets/controls",
            "layout": "IPY_MODEL_6aa99c9edfc34ba8b3e0133304857e16"
          }
        },
        "34b17afb5f914ebf91d88e43e3b8866d": {
          "model_module": "@jupyter-widgets/controls",
          "model_name": "ProgressStyleModel",
          "state": {
            "_view_name": "StyleView",
            "_model_name": "ProgressStyleModel",
            "description_width": "initial",
            "_view_module": "@jupyter-widgets/base",
            "_model_module_version": "1.5.0",
            "_view_count": null,
            "_view_module_version": "1.2.0",
            "bar_color": null,
            "_model_module": "@jupyter-widgets/controls"
          }
        },
        "c0e333e0c9274617b3bd14ab448965cb": {
          "model_module": "@jupyter-widgets/base",
          "model_name": "LayoutModel",
          "state": {
            "_view_name": "LayoutView",
            "grid_template_rows": null,
            "right": null,
            "justify_content": null,
            "_view_module": "@jupyter-widgets/base",
            "overflow": null,
            "_model_module_version": "1.2.0",
            "_view_count": null,
            "flex_flow": null,
            "width": null,
            "min_width": null,
            "border": null,
            "align_items": null,
            "bottom": null,
            "_model_module": "@jupyter-widgets/base",
            "top": null,
            "grid_column": null,
            "overflow_y": null,
            "overflow_x": null,
            "grid_auto_flow": null,
            "grid_area": null,
            "grid_template_columns": null,
            "flex": null,
            "_model_name": "LayoutModel",
            "justify_items": null,
            "grid_row": null,
            "max_height": null,
            "align_content": null,
            "visibility": null,
            "align_self": null,
            "height": null,
            "min_height": null,
            "padding": null,
            "grid_auto_rows": null,
            "grid_gap": null,
            "max_width": null,
            "order": null,
            "_view_module_version": "1.2.0",
            "grid_template_areas": null,
            "object_position": null,
            "object_fit": null,
            "grid_auto_columns": null,
            "margin": null,
            "display": null,
            "left": null
          }
        },
        "032b91f1b1584a738736672b7fee3935": {
          "model_module": "@jupyter-widgets/controls",
          "model_name": "DescriptionStyleModel",
          "state": {
            "_view_name": "StyleView",
            "_model_name": "DescriptionStyleModel",
            "description_width": "",
            "_view_module": "@jupyter-widgets/base",
            "_model_module_version": "1.5.0",
            "_view_count": null,
            "_view_module_version": "1.2.0",
            "_model_module": "@jupyter-widgets/controls"
          }
        },
        "6aa99c9edfc34ba8b3e0133304857e16": {
          "model_module": "@jupyter-widgets/base",
          "model_name": "LayoutModel",
          "state": {
            "_view_name": "LayoutView",
            "grid_template_rows": null,
            "right": null,
            "justify_content": null,
            "_view_module": "@jupyter-widgets/base",
            "overflow": null,
            "_model_module_version": "1.2.0",
            "_view_count": null,
            "flex_flow": null,
            "width": null,
            "min_width": null,
            "border": null,
            "align_items": null,
            "bottom": null,
            "_model_module": "@jupyter-widgets/base",
            "top": null,
            "grid_column": null,
            "overflow_y": null,
            "overflow_x": null,
            "grid_auto_flow": null,
            "grid_area": null,
            "grid_template_columns": null,
            "flex": null,
            "_model_name": "LayoutModel",
            "justify_items": null,
            "grid_row": null,
            "max_height": null,
            "align_content": null,
            "visibility": null,
            "align_self": null,
            "height": null,
            "min_height": null,
            "padding": null,
            "grid_auto_rows": null,
            "grid_gap": null,
            "max_width": null,
            "order": null,
            "_view_module_version": "1.2.0",
            "grid_template_areas": null,
            "object_position": null,
            "object_fit": null,
            "grid_auto_columns": null,
            "margin": null,
            "display": null,
            "left": null
          }
        },
        "88f17d37207f4dcf9443e85cbadb3d06": {
          "model_module": "@jupyter-widgets/controls",
          "model_name": "HBoxModel",
          "state": {
            "_view_name": "HBoxView",
            "_dom_classes": [],
            "_model_name": "HBoxModel",
            "_view_module": "@jupyter-widgets/controls",
            "_model_module_version": "1.5.0",
            "_view_count": null,
            "_view_module_version": "1.5.0",
            "box_style": "",
            "layout": "IPY_MODEL_c15dc1bb131d4bc9802df4309272ff82",
            "_model_module": "@jupyter-widgets/controls",
            "children": [
              "IPY_MODEL_5288af1de21f4668bab700de8e094fc6",
              "IPY_MODEL_bba4b30141024f8993867c8879430940"
            ]
          }
        },
        "c15dc1bb131d4bc9802df4309272ff82": {
          "model_module": "@jupyter-widgets/base",
          "model_name": "LayoutModel",
          "state": {
            "_view_name": "LayoutView",
            "grid_template_rows": null,
            "right": null,
            "justify_content": null,
            "_view_module": "@jupyter-widgets/base",
            "overflow": null,
            "_model_module_version": "1.2.0",
            "_view_count": null,
            "flex_flow": null,
            "width": null,
            "min_width": null,
            "border": null,
            "align_items": null,
            "bottom": null,
            "_model_module": "@jupyter-widgets/base",
            "top": null,
            "grid_column": null,
            "overflow_y": null,
            "overflow_x": null,
            "grid_auto_flow": null,
            "grid_area": null,
            "grid_template_columns": null,
            "flex": null,
            "_model_name": "LayoutModel",
            "justify_items": null,
            "grid_row": null,
            "max_height": null,
            "align_content": null,
            "visibility": null,
            "align_self": null,
            "height": null,
            "min_height": null,
            "padding": null,
            "grid_auto_rows": null,
            "grid_gap": null,
            "max_width": null,
            "order": null,
            "_view_module_version": "1.2.0",
            "grid_template_areas": null,
            "object_position": null,
            "object_fit": null,
            "grid_auto_columns": null,
            "margin": null,
            "display": null,
            "left": null
          }
        },
        "5288af1de21f4668bab700de8e094fc6": {
          "model_module": "@jupyter-widgets/controls",
          "model_name": "FloatProgressModel",
          "state": {
            "_view_name": "ProgressView",
            "style": "IPY_MODEL_83fb6af9780646ec8be7ea726c90bccf",
            "_dom_classes": [],
            "description": "",
            "_model_name": "FloatProgressModel",
            "bar_style": "info",
            "max": 1,
            "_view_module": "@jupyter-widgets/controls",
            "_model_module_version": "1.5.0",
            "value": 1,
            "_view_count": null,
            "_view_module_version": "1.5.0",
            "orientation": "horizontal",
            "min": 0,
            "description_tooltip": null,
            "_model_module": "@jupyter-widgets/controls",
            "layout": "IPY_MODEL_8b39087608b5441283517f94e2fcc8c8"
          }
        },
        "bba4b30141024f8993867c8879430940": {
          "model_module": "@jupyter-widgets/controls",
          "model_name": "HTMLModel",
          "state": {
            "_view_name": "HTMLView",
            "style": "IPY_MODEL_5e2f6df6238942e4ac7f74f596581458",
            "_dom_classes": [],
            "description": "",
            "_model_name": "HTMLModel",
            "placeholder": "​",
            "_view_module": "@jupyter-widgets/controls",
            "_model_module_version": "1.5.0",
            "value": " 10000/0 [00:05&lt;00:00, 1972.11 examples/s]",
            "_view_count": null,
            "_view_module_version": "1.5.0",
            "description_tooltip": null,
            "_model_module": "@jupyter-widgets/controls",
            "layout": "IPY_MODEL_471476c0bf944065ac644109e458a501"
          }
        },
        "83fb6af9780646ec8be7ea726c90bccf": {
          "model_module": "@jupyter-widgets/controls",
          "model_name": "ProgressStyleModel",
          "state": {
            "_view_name": "StyleView",
            "_model_name": "ProgressStyleModel",
            "description_width": "initial",
            "_view_module": "@jupyter-widgets/base",
            "_model_module_version": "1.5.0",
            "_view_count": null,
            "_view_module_version": "1.2.0",
            "bar_color": null,
            "_model_module": "@jupyter-widgets/controls"
          }
        },
        "8b39087608b5441283517f94e2fcc8c8": {
          "model_module": "@jupyter-widgets/base",
          "model_name": "LayoutModel",
          "state": {
            "_view_name": "LayoutView",
            "grid_template_rows": null,
            "right": null,
            "justify_content": null,
            "_view_module": "@jupyter-widgets/base",
            "overflow": null,
            "_model_module_version": "1.2.0",
            "_view_count": null,
            "flex_flow": null,
            "width": null,
            "min_width": null,
            "border": null,
            "align_items": null,
            "bottom": null,
            "_model_module": "@jupyter-widgets/base",
            "top": null,
            "grid_column": null,
            "overflow_y": null,
            "overflow_x": null,
            "grid_auto_flow": null,
            "grid_area": null,
            "grid_template_columns": null,
            "flex": null,
            "_model_name": "LayoutModel",
            "justify_items": null,
            "grid_row": null,
            "max_height": null,
            "align_content": null,
            "visibility": null,
            "align_self": null,
            "height": null,
            "min_height": null,
            "padding": null,
            "grid_auto_rows": null,
            "grid_gap": null,
            "max_width": null,
            "order": null,
            "_view_module_version": "1.2.0",
            "grid_template_areas": null,
            "object_position": null,
            "object_fit": null,
            "grid_auto_columns": null,
            "margin": null,
            "display": null,
            "left": null
          }
        },
        "5e2f6df6238942e4ac7f74f596581458": {
          "model_module": "@jupyter-widgets/controls",
          "model_name": "DescriptionStyleModel",
          "state": {
            "_view_name": "StyleView",
            "_model_name": "DescriptionStyleModel",
            "description_width": "",
            "_view_module": "@jupyter-widgets/base",
            "_model_module_version": "1.5.0",
            "_view_count": null,
            "_view_module_version": "1.2.0",
            "_model_module": "@jupyter-widgets/controls"
          }
        },
        "471476c0bf944065ac644109e458a501": {
          "model_module": "@jupyter-widgets/base",
          "model_name": "LayoutModel",
          "state": {
            "_view_name": "LayoutView",
            "grid_template_rows": null,
            "right": null,
            "justify_content": null,
            "_view_module": "@jupyter-widgets/base",
            "overflow": null,
            "_model_module_version": "1.2.0",
            "_view_count": null,
            "flex_flow": null,
            "width": null,
            "min_width": null,
            "border": null,
            "align_items": null,
            "bottom": null,
            "_model_module": "@jupyter-widgets/base",
            "top": null,
            "grid_column": null,
            "overflow_y": null,
            "overflow_x": null,
            "grid_auto_flow": null,
            "grid_area": null,
            "grid_template_columns": null,
            "flex": null,
            "_model_name": "LayoutModel",
            "justify_items": null,
            "grid_row": null,
            "max_height": null,
            "align_content": null,
            "visibility": null,
            "align_self": null,
            "height": null,
            "min_height": null,
            "padding": null,
            "grid_auto_rows": null,
            "grid_gap": null,
            "max_width": null,
            "order": null,
            "_view_module_version": "1.2.0",
            "grid_template_areas": null,
            "object_position": null,
            "object_fit": null,
            "grid_auto_columns": null,
            "margin": null,
            "display": null,
            "left": null
          }
        },
        "ee5261bc6ea4427ba345f89c0f571f56": {
          "model_module": "@jupyter-widgets/controls",
          "model_name": "HBoxModel",
          "state": {
            "_view_name": "HBoxView",
            "_dom_classes": [],
            "_model_name": "HBoxModel",
            "_view_module": "@jupyter-widgets/controls",
            "_model_module_version": "1.5.0",
            "_view_count": null,
            "_view_module_version": "1.5.0",
            "box_style": "",
            "layout": "IPY_MODEL_0a7c04a1adde4eac84a7484560bd4405",
            "_model_module": "@jupyter-widgets/controls",
            "children": [
              "IPY_MODEL_fba15a3a4f5b4c2f8ad6952cb8a7e39b",
              "IPY_MODEL_9bd9416990874fd69f4a612ece6449f8"
            ]
          }
        },
        "0a7c04a1adde4eac84a7484560bd4405": {
          "model_module": "@jupyter-widgets/base",
          "model_name": "LayoutModel",
          "state": {
            "_view_name": "LayoutView",
            "grid_template_rows": null,
            "right": null,
            "justify_content": null,
            "_view_module": "@jupyter-widgets/base",
            "overflow": null,
            "_model_module_version": "1.2.0",
            "_view_count": null,
            "flex_flow": null,
            "width": null,
            "min_width": null,
            "border": null,
            "align_items": null,
            "bottom": null,
            "_model_module": "@jupyter-widgets/base",
            "top": null,
            "grid_column": null,
            "overflow_y": null,
            "overflow_x": null,
            "grid_auto_flow": null,
            "grid_area": null,
            "grid_template_columns": null,
            "flex": null,
            "_model_name": "LayoutModel",
            "justify_items": null,
            "grid_row": null,
            "max_height": null,
            "align_content": null,
            "visibility": null,
            "align_self": null,
            "height": null,
            "min_height": null,
            "padding": null,
            "grid_auto_rows": null,
            "grid_gap": null,
            "max_width": null,
            "order": null,
            "_view_module_version": "1.2.0",
            "grid_template_areas": null,
            "object_position": null,
            "object_fit": null,
            "grid_auto_columns": null,
            "margin": null,
            "display": null,
            "left": null
          }
        },
        "fba15a3a4f5b4c2f8ad6952cb8a7e39b": {
          "model_module": "@jupyter-widgets/controls",
          "model_name": "FloatProgressModel",
          "state": {
            "_view_name": "ProgressView",
            "style": "IPY_MODEL_2b9a418e4941413683360802b024a86d",
            "_dom_classes": [],
            "description": "  0%",
            "_model_name": "FloatProgressModel",
            "bar_style": "danger",
            "max": 10000,
            "_view_module": "@jupyter-widgets/controls",
            "_model_module_version": "1.5.0",
            "value": 0,
            "_view_count": null,
            "_view_module_version": "1.5.0",
            "orientation": "horizontal",
            "min": 0,
            "description_tooltip": null,
            "_model_module": "@jupyter-widgets/controls",
            "layout": "IPY_MODEL_fe741f4ad35047e8b291fe40e42689d8"
          }
        },
        "9bd9416990874fd69f4a612ece6449f8": {
          "model_module": "@jupyter-widgets/controls",
          "model_name": "HTMLModel",
          "state": {
            "_view_name": "HTMLView",
            "style": "IPY_MODEL_3044d6914920462fb9eddd9714077742",
            "_dom_classes": [],
            "description": "",
            "_model_name": "HTMLModel",
            "placeholder": "​",
            "_view_module": "@jupyter-widgets/controls",
            "_model_module_version": "1.5.0",
            "value": " 0/10000 [00:00&lt;?, ? examples/s]",
            "_view_count": null,
            "_view_module_version": "1.5.0",
            "description_tooltip": null,
            "_model_module": "@jupyter-widgets/controls",
            "layout": "IPY_MODEL_a6fd2d15969745c1a0e48fdbcacf87f1"
          }
        },
        "2b9a418e4941413683360802b024a86d": {
          "model_module": "@jupyter-widgets/controls",
          "model_name": "ProgressStyleModel",
          "state": {
            "_view_name": "StyleView",
            "_model_name": "ProgressStyleModel",
            "description_width": "initial",
            "_view_module": "@jupyter-widgets/base",
            "_model_module_version": "1.5.0",
            "_view_count": null,
            "_view_module_version": "1.2.0",
            "bar_color": null,
            "_model_module": "@jupyter-widgets/controls"
          }
        },
        "fe741f4ad35047e8b291fe40e42689d8": {
          "model_module": "@jupyter-widgets/base",
          "model_name": "LayoutModel",
          "state": {
            "_view_name": "LayoutView",
            "grid_template_rows": null,
            "right": null,
            "justify_content": null,
            "_view_module": "@jupyter-widgets/base",
            "overflow": null,
            "_model_module_version": "1.2.0",
            "_view_count": null,
            "flex_flow": null,
            "width": null,
            "min_width": null,
            "border": null,
            "align_items": null,
            "bottom": null,
            "_model_module": "@jupyter-widgets/base",
            "top": null,
            "grid_column": null,
            "overflow_y": null,
            "overflow_x": null,
            "grid_auto_flow": null,
            "grid_area": null,
            "grid_template_columns": null,
            "flex": null,
            "_model_name": "LayoutModel",
            "justify_items": null,
            "grid_row": null,
            "max_height": null,
            "align_content": null,
            "visibility": null,
            "align_self": null,
            "height": null,
            "min_height": null,
            "padding": null,
            "grid_auto_rows": null,
            "grid_gap": null,
            "max_width": null,
            "order": null,
            "_view_module_version": "1.2.0",
            "grid_template_areas": null,
            "object_position": null,
            "object_fit": null,
            "grid_auto_columns": null,
            "margin": null,
            "display": null,
            "left": null
          }
        },
        "3044d6914920462fb9eddd9714077742": {
          "model_module": "@jupyter-widgets/controls",
          "model_name": "DescriptionStyleModel",
          "state": {
            "_view_name": "StyleView",
            "_model_name": "DescriptionStyleModel",
            "description_width": "",
            "_view_module": "@jupyter-widgets/base",
            "_model_module_version": "1.5.0",
            "_view_count": null,
            "_view_module_version": "1.2.0",
            "_model_module": "@jupyter-widgets/controls"
          }
        },
        "a6fd2d15969745c1a0e48fdbcacf87f1": {
          "model_module": "@jupyter-widgets/base",
          "model_name": "LayoutModel",
          "state": {
            "_view_name": "LayoutView",
            "grid_template_rows": null,
            "right": null,
            "justify_content": null,
            "_view_module": "@jupyter-widgets/base",
            "overflow": null,
            "_model_module_version": "1.2.0",
            "_view_count": null,
            "flex_flow": null,
            "width": null,
            "min_width": null,
            "border": null,
            "align_items": null,
            "bottom": null,
            "_model_module": "@jupyter-widgets/base",
            "top": null,
            "grid_column": null,
            "overflow_y": null,
            "overflow_x": null,
            "grid_auto_flow": null,
            "grid_area": null,
            "grid_template_columns": null,
            "flex": null,
            "_model_name": "LayoutModel",
            "justify_items": null,
            "grid_row": null,
            "max_height": null,
            "align_content": null,
            "visibility": null,
            "align_self": null,
            "height": null,
            "min_height": null,
            "padding": null,
            "grid_auto_rows": null,
            "grid_gap": null,
            "max_width": null,
            "order": null,
            "_view_module_version": "1.2.0",
            "grid_template_areas": null,
            "object_position": null,
            "object_fit": null,
            "grid_auto_columns": null,
            "margin": null,
            "display": null,
            "left": null
          }
        }
      }
    },
    "accelerator": "GPU"
  },
  "cells": [
    {
      "cell_type": "code",
      "metadata": {
        "id": "gVeS-kQQSJ7k",
        "colab_type": "code",
        "colab": {
          "base_uri": "https://localhost:8080/",
          "height": 955
        },
        "outputId": "8c001780-5283-4e95-f4d0-f825d54b3279"
      },
      "source": [
        "!pip install tensorflow==2.2.0"
      ],
      "execution_count": 1,
      "outputs": [
        {
          "output_type": "stream",
          "text": [
            "Collecting tensorflow==2.2.0\n",
            "\u001b[?25l  Downloading https://files.pythonhosted.org/packages/3d/be/679ce5254a8c8d07470efb4a4c00345fae91f766e64f1c2aece8796d7218/tensorflow-2.2.0-cp36-cp36m-manylinux2010_x86_64.whl (516.2MB)\n",
            "\u001b[K     |████████████████████████████████| 516.2MB 24kB/s \n",
            "\u001b[?25hRequirement already satisfied: scipy==1.4.1; python_version >= \"3\" in /usr/local/lib/python3.6/dist-packages (from tensorflow==2.2.0) (1.4.1)\n",
            "Requirement already satisfied: gast==0.3.3 in /usr/local/lib/python3.6/dist-packages (from tensorflow==2.2.0) (0.3.3)\n",
            "Requirement already satisfied: absl-py>=0.7.0 in /usr/local/lib/python3.6/dist-packages (from tensorflow==2.2.0) (0.9.0)\n",
            "Requirement already satisfied: h5py<2.11.0,>=2.10.0 in /usr/local/lib/python3.6/dist-packages (from tensorflow==2.2.0) (2.10.0)\n",
            "Requirement already satisfied: wheel>=0.26; python_version >= \"3\" in /usr/local/lib/python3.6/dist-packages (from tensorflow==2.2.0) (0.34.2)\n",
            "Requirement already satisfied: grpcio>=1.8.6 in /usr/local/lib/python3.6/dist-packages (from tensorflow==2.2.0) (1.31.0)\n",
            "Requirement already satisfied: keras-preprocessing>=1.1.0 in /usr/local/lib/python3.6/dist-packages (from tensorflow==2.2.0) (1.1.2)\n",
            "Requirement already satisfied: termcolor>=1.1.0 in /usr/local/lib/python3.6/dist-packages (from tensorflow==2.2.0) (1.1.0)\n",
            "Requirement already satisfied: opt-einsum>=2.3.2 in /usr/local/lib/python3.6/dist-packages (from tensorflow==2.2.0) (3.3.0)\n",
            "Collecting tensorboard<2.3.0,>=2.2.0\n",
            "\u001b[?25l  Downloading https://files.pythonhosted.org/packages/1d/74/0a6fcb206dcc72a6da9a62dd81784bfdbff5fedb099982861dc2219014fb/tensorboard-2.2.2-py3-none-any.whl (3.0MB)\n",
            "\u001b[K     |████████████████████████████████| 3.0MB 46.2MB/s \n",
            "\u001b[?25hRequirement already satisfied: wrapt>=1.11.1 in /usr/local/lib/python3.6/dist-packages (from tensorflow==2.2.0) (1.12.1)\n",
            "Requirement already satisfied: protobuf>=3.8.0 in /usr/local/lib/python3.6/dist-packages (from tensorflow==2.2.0) (3.12.4)\n",
            "Requirement already satisfied: six>=1.12.0 in /usr/local/lib/python3.6/dist-packages (from tensorflow==2.2.0) (1.15.0)\n",
            "Collecting tensorflow-estimator<2.3.0,>=2.2.0\n",
            "\u001b[?25l  Downloading https://files.pythonhosted.org/packages/a4/f5/926ae53d6a226ec0fda5208e0e581cffed895ccc89e36ba76a8e60895b78/tensorflow_estimator-2.2.0-py2.py3-none-any.whl (454kB)\n",
            "\u001b[K     |████████████████████████████████| 460kB 57.8MB/s \n",
            "\u001b[?25hRequirement already satisfied: astunparse==1.6.3 in /usr/local/lib/python3.6/dist-packages (from tensorflow==2.2.0) (1.6.3)\n",
            "Requirement already satisfied: numpy<2.0,>=1.16.0 in /usr/local/lib/python3.6/dist-packages (from tensorflow==2.2.0) (1.18.5)\n",
            "Requirement already satisfied: google-pasta>=0.1.8 in /usr/local/lib/python3.6/dist-packages (from tensorflow==2.2.0) (0.2.0)\n",
            "Requirement already satisfied: google-auth<2,>=1.6.3 in /usr/local/lib/python3.6/dist-packages (from tensorboard<2.3.0,>=2.2.0->tensorflow==2.2.0) (1.17.2)\n",
            "Requirement already satisfied: google-auth-oauthlib<0.5,>=0.4.1 in /usr/local/lib/python3.6/dist-packages (from tensorboard<2.3.0,>=2.2.0->tensorflow==2.2.0) (0.4.1)\n",
            "Requirement already satisfied: setuptools>=41.0.0 in /usr/local/lib/python3.6/dist-packages (from tensorboard<2.3.0,>=2.2.0->tensorflow==2.2.0) (49.2.0)\n",
            "Requirement already satisfied: tensorboard-plugin-wit>=1.6.0 in /usr/local/lib/python3.6/dist-packages (from tensorboard<2.3.0,>=2.2.0->tensorflow==2.2.0) (1.7.0)\n",
            "Requirement already satisfied: markdown>=2.6.8 in /usr/local/lib/python3.6/dist-packages (from tensorboard<2.3.0,>=2.2.0->tensorflow==2.2.0) (3.2.2)\n",
            "Requirement already satisfied: werkzeug>=0.11.15 in /usr/local/lib/python3.6/dist-packages (from tensorboard<2.3.0,>=2.2.0->tensorflow==2.2.0) (1.0.1)\n",
            "Requirement already satisfied: requests<3,>=2.21.0 in /usr/local/lib/python3.6/dist-packages (from tensorboard<2.3.0,>=2.2.0->tensorflow==2.2.0) (2.23.0)\n",
            "Requirement already satisfied: pyasn1-modules>=0.2.1 in /usr/local/lib/python3.6/dist-packages (from google-auth<2,>=1.6.3->tensorboard<2.3.0,>=2.2.0->tensorflow==2.2.0) (0.2.8)\n",
            "Requirement already satisfied: cachetools<5.0,>=2.0.0 in /usr/local/lib/python3.6/dist-packages (from google-auth<2,>=1.6.3->tensorboard<2.3.0,>=2.2.0->tensorflow==2.2.0) (4.1.1)\n",
            "Requirement already satisfied: rsa<5,>=3.1.4; python_version >= \"3\" in /usr/local/lib/python3.6/dist-packages (from google-auth<2,>=1.6.3->tensorboard<2.3.0,>=2.2.0->tensorflow==2.2.0) (4.6)\n",
            "Requirement already satisfied: requests-oauthlib>=0.7.0 in /usr/local/lib/python3.6/dist-packages (from google-auth-oauthlib<0.5,>=0.4.1->tensorboard<2.3.0,>=2.2.0->tensorflow==2.2.0) (1.3.0)\n",
            "Requirement already satisfied: importlib-metadata; python_version < \"3.8\" in /usr/local/lib/python3.6/dist-packages (from markdown>=2.6.8->tensorboard<2.3.0,>=2.2.0->tensorflow==2.2.0) (1.7.0)\n",
            "Requirement already satisfied: chardet<4,>=3.0.2 in /usr/local/lib/python3.6/dist-packages (from requests<3,>=2.21.0->tensorboard<2.3.0,>=2.2.0->tensorflow==2.2.0) (3.0.4)\n",
            "Requirement already satisfied: idna<3,>=2.5 in /usr/local/lib/python3.6/dist-packages (from requests<3,>=2.21.0->tensorboard<2.3.0,>=2.2.0->tensorflow==2.2.0) (2.10)\n",
            "Requirement already satisfied: certifi>=2017.4.17 in /usr/local/lib/python3.6/dist-packages (from requests<3,>=2.21.0->tensorboard<2.3.0,>=2.2.0->tensorflow==2.2.0) (2020.6.20)\n",
            "Requirement already satisfied: urllib3!=1.25.0,!=1.25.1,<1.26,>=1.21.1 in /usr/local/lib/python3.6/dist-packages (from requests<3,>=2.21.0->tensorboard<2.3.0,>=2.2.0->tensorflow==2.2.0) (1.24.3)\n",
            "Requirement already satisfied: pyasn1<0.5.0,>=0.4.6 in /usr/local/lib/python3.6/dist-packages (from pyasn1-modules>=0.2.1->google-auth<2,>=1.6.3->tensorboard<2.3.0,>=2.2.0->tensorflow==2.2.0) (0.4.8)\n",
            "Requirement already satisfied: oauthlib>=3.0.0 in /usr/local/lib/python3.6/dist-packages (from requests-oauthlib>=0.7.0->google-auth-oauthlib<0.5,>=0.4.1->tensorboard<2.3.0,>=2.2.0->tensorflow==2.2.0) (3.1.0)\n",
            "Requirement already satisfied: zipp>=0.5 in /usr/local/lib/python3.6/dist-packages (from importlib-metadata; python_version < \"3.8\"->markdown>=2.6.8->tensorboard<2.3.0,>=2.2.0->tensorflow==2.2.0) (3.1.0)\n",
            "Installing collected packages: tensorboard, tensorflow-estimator, tensorflow\n",
            "  Found existing installation: tensorboard 2.3.0\n",
            "    Uninstalling tensorboard-2.3.0:\n",
            "      Successfully uninstalled tensorboard-2.3.0\n",
            "  Found existing installation: tensorflow-estimator 2.3.0\n",
            "    Uninstalling tensorflow-estimator-2.3.0:\n",
            "      Successfully uninstalled tensorflow-estimator-2.3.0\n",
            "  Found existing installation: tensorflow 2.3.0\n",
            "    Uninstalling tensorflow-2.3.0:\n",
            "      Successfully uninstalled tensorflow-2.3.0\n",
            "Successfully installed tensorboard-2.2.2 tensorflow-2.2.0 tensorflow-estimator-2.2.0\n"
          ],
          "name": "stdout"
        }
      ]
    },
    {
      "cell_type": "code",
      "metadata": {
        "id": "TVbabelrz8Qo",
        "colab_type": "code",
        "colab": {}
      },
      "source": [
        "import numpy as np\n",
        "import tensorflow as tf\n",
        "import tensorflow_datasets as tfds"
      ],
      "execution_count": 2,
      "outputs": []
    },
    {
      "cell_type": "code",
      "metadata": {
        "id": "bqlNF8gr0zD1",
        "colab_type": "code",
        "colab": {
          "base_uri": "https://localhost:8080/",
          "height": 35
        },
        "outputId": "a8f5e6ad-c35b-4b5c-c2cf-cf80d2ddc6ab"
      },
      "source": [
        "# Check Tensorflow version\n",
        "tf.__version__"
      ],
      "execution_count": 3,
      "outputs": [
        {
          "output_type": "execute_result",
          "data": {
            "application/vnd.google.colaboratory.intrinsic+json": {
              "type": "string"
            },
            "text/plain": [
              "'2.2.0'"
            ]
          },
          "metadata": {
            "tags": []
          },
          "execution_count": 3
        }
      ]
    },
    {
      "cell_type": "markdown",
      "metadata": {
        "id": "A7_YHnsk2CQ3",
        "colab_type": "text"
      },
      "source": [
        "This is an example Colab that you may use to check the validity of your submission for the PGDL competition.\n",
        "\n",
        "First we define the functions that we use for loading the sequential models."
      ]
    },
    {
      "cell_type": "markdown",
      "metadata": {
        "id": "9ZejkuRl3xAx",
        "colab_type": "text"
      },
      "source": [
        "## Utilities"
      ]
    },
    {
      "cell_type": "code",
      "metadata": {
        "id": "osxfGUpe3D3O",
        "colab_type": "code",
        "colab": {}
      },
      "source": [
        "class Sequential(tf.keras.Sequential):\n",
        "  def __call__(self, x, tape=False, *args, **kwargs):\n",
        "    if tape:\n",
        "      tape.watch(x)\n",
        "    return super(Sequential, self).__call__(x, *args, **kwargs)\n",
        "\n",
        "\n",
        "def wrap_layer(layer_cls, *args, **kwargs):\n",
        "    \"\"\"Wraps a layer for computing the jacobian wrt to intermediate layers.\"\"\"\n",
        "    class wrapped_layer(layer_cls):\n",
        "        def __call__(self, x, *args, **kwargs):\n",
        "            self._last_seen_input = x\n",
        "            return super(wrapped_layer, self).__call__(x, *args, **kwargs)\n",
        "    return wrapped_layer(*args, **kwargs)\n",
        "\n",
        "\n",
        "def model_def_to_keras_sequential(model_def):\n",
        "    \"\"\"Convert a model json to a Keras Sequential model.\n",
        "\n",
        "    Args:\n",
        "        model_def: A list of dictionaries, where each dict describes a layer to add\n",
        "            to the model.\n",
        "\n",
        "    Returns:\n",
        "        A Keras Sequential model with the required architecture.\n",
        "    \"\"\"\n",
        "\n",
        "    def _cast_to_integer_if_possible(dct):\n",
        "        dct = dict(dct)\n",
        "        for k, v in dct.items():\n",
        "            if isinstance(v, float) and v.is_integer():\n",
        "                dct[k] = int(v)\n",
        "        return dct\n",
        "\n",
        "    def parse_layer(layer_def):\n",
        "        layer_cls = getattr(tf.keras.layers, layer_def['layer_name'])\n",
        "        # layer_cls = wrap_layer(layer_cls)\n",
        "        kwargs = dict(layer_def)\n",
        "        del kwargs['layer_name']\n",
        "        return wrap_layer(layer_cls, **_cast_to_integer_if_possible(kwargs))\n",
        "        # return layer_cls(**_cast_to_integer_if_possible(kwargs))\n",
        "\n",
        "    return Sequential([parse_layer(l) for l in model_def])\n",
        "\n",
        "\n",
        "@tf.function()\n",
        "def get_jacobian(model, inputs):\n",
        "    \"\"\"Get jacobians with respect to intermediate layers.\"\"\"\n",
        "    with tf.GradientTape(persistent=True) as tape:\n",
        "        out = model(inputs, tape=tape)\n",
        "    dct = {}\n",
        "    for i, l in enumerate(model.layers):\n",
        "        try:\n",
        "            dct[i] = tape.batch_jacobian(out, l._last_seen_input)\n",
        "        except AttributeError:  # no _last_seen_input, layer not wrapped (ex: flatten)\n",
        "            dct[i] = None\n",
        "    return dct"
      ],
      "execution_count": 4,
      "outputs": []
    },
    {
      "cell_type": "markdown",
      "metadata": {
        "id": "In-xK1wI3zDJ",
        "colab_type": "text"
      },
      "source": [
        "## Defining Dataset and Model"
      ]
    },
    {
      "cell_type": "markdown",
      "metadata": {
        "id": "wq3j3UQG3DGr",
        "colab_type": "text"
      },
      "source": [
        "**Load Dataset**\n",
        "\n",
        "We first load a example dataset (CIFAR-10)."
      ]
    },
    {
      "cell_type": "code",
      "metadata": {
        "id": "eUWPnKDC0EtZ",
        "colab_type": "code",
        "colab": {
          "base_uri": "https://localhost:8080/",
          "height": 401,
          "referenced_widgets": [
            "da22486e7d514a5ab7138f39aff7feb9",
            "5b55a931fac24a5e83bb43a0dd3f18ea",
            "09566028851b414f84584ddc0ecbc762",
            "91800ca7a22044ada25e6a49c4fc2be3",
            "a9ab674d9dae4f03a71ddff73285538e",
            "f3fc83df45a04cd3997fe10ec5a342e7",
            "f8f8a0a379c646759c7f5135ed00f636",
            "a053c4f8c57947f388177f83e2323fcb",
            "663e5ce2c3d9415dae667043ab170a67",
            "e78fad720e90459fa5467df9bbf25e0f",
            "88c79fa38acb4edf8179611d14d6b74f",
            "1764f7e4291a4f74a87666b99a22dbed",
            "bb76b2a2876f4fe6baccfd600dc8f03d",
            "47f29372a1d94b92a77f73eab5865633",
            "684f7edfad244654957ab7991c21d10b",
            "ecf142372be94e6380e8fcad809e6b37",
            "c16e6870ac004155859c227f482f4255",
            "fc9cef7c6afe4052bf324e5c1ffee702",
            "c0b03409659b4c61a41ccbffecfce319",
            "a533c86b79f943aea1ae71c9a440d852",
            "8ad6a1e908d943ed875d0cd80bf5be3a",
            "c4b67be55fd84b059b5c316eb88b1d8a",
            "3f0105fb88c14e0c950cf105aba3efc5",
            "5240f060d9eb47f7babc125834e0dbc9",
            "d4150dd337414591a02de80c9d6a7097",
            "58aebf8b5eef4e3da9753d0c8165368a",
            "a58cef83380240cba09846e8021b3a95",
            "031f16ef932e448e84ff7896c99a1178",
            "8be1bda4129743458f68d8953afae5d7",
            "942c23e4b0cc4102ad7adfb67308f407",
            "bc7b977990574f538e93c3df6f22251b",
            "dc1c8c9b845447f48a09f1d3d54d8252",
            "f951a4fb6d3047d39ff67ae16bc821b4",
            "c76d9d9a950946ef88281de59a9c2501",
            "3164510b8b0240f3b901c8ff12c791a8",
            "26f23b7738ec421cb36f8dbb63bdd286",
            "34b17afb5f914ebf91d88e43e3b8866d",
            "c0e333e0c9274617b3bd14ab448965cb",
            "032b91f1b1584a738736672b7fee3935",
            "6aa99c9edfc34ba8b3e0133304857e16",
            "88f17d37207f4dcf9443e85cbadb3d06",
            "c15dc1bb131d4bc9802df4309272ff82",
            "5288af1de21f4668bab700de8e094fc6",
            "bba4b30141024f8993867c8879430940",
            "83fb6af9780646ec8be7ea726c90bccf",
            "8b39087608b5441283517f94e2fcc8c8",
            "5e2f6df6238942e4ac7f74f596581458",
            "471476c0bf944065ac644109e458a501",
            "ee5261bc6ea4427ba345f89c0f571f56",
            "0a7c04a1adde4eac84a7484560bd4405",
            "fba15a3a4f5b4c2f8ad6952cb8a7e39b",
            "9bd9416990874fd69f4a612ece6449f8",
            "2b9a418e4941413683360802b024a86d",
            "fe741f4ad35047e8b291fe40e42689d8",
            "3044d6914920462fb9eddd9714077742",
            "a6fd2d15969745c1a0e48fdbcacf87f1"
          ]
        },
        "outputId": "1997a2f7-4ba4-4759-8777-502a32a23697"
      },
      "source": [
        "ds = tfds.load('cifar10', split='train', shuffle_files=True)"
      ],
      "execution_count": 5,
      "outputs": [
        {
          "output_type": "stream",
          "text": [
            "\u001b[1mDownloading and preparing dataset cifar10/3.0.0 (download: 162.17 MiB, generated: Unknown size, total: 162.17 MiB) to /root/tensorflow_datasets/cifar10/3.0.0...\u001b[0m\n"
          ],
          "name": "stdout"
        },
        {
          "output_type": "display_data",
          "data": {
            "application/vnd.jupyter.widget-view+json": {
              "model_id": "da22486e7d514a5ab7138f39aff7feb9",
              "version_minor": 0,
              "version_major": 2
            },
            "text/plain": [
              "HBox(children=(FloatProgress(value=1.0, bar_style='info', description='Dl Completed...', max=1.0, style=Progre…"
            ]
          },
          "metadata": {
            "tags": []
          }
        },
        {
          "output_type": "display_data",
          "data": {
            "application/vnd.jupyter.widget-view+json": {
              "model_id": "663e5ce2c3d9415dae667043ab170a67",
              "version_minor": 0,
              "version_major": 2
            },
            "text/plain": [
              "HBox(children=(FloatProgress(value=1.0, bar_style='info', description='Dl Size...', max=1.0, style=ProgressSty…"
            ]
          },
          "metadata": {
            "tags": []
          }
        },
        {
          "output_type": "display_data",
          "data": {
            "application/vnd.jupyter.widget-view+json": {
              "model_id": "c16e6870ac004155859c227f482f4255",
              "version_minor": 0,
              "version_major": 2
            },
            "text/plain": [
              "HBox(children=(FloatProgress(value=1.0, bar_style='info', description='Extraction completed...', max=1.0, styl…"
            ]
          },
          "metadata": {
            "tags": []
          }
        },
        {
          "output_type": "stream",
          "text": [
            "/usr/local/lib/python3.6/dist-packages/urllib3/connectionpool.py:847: InsecureRequestWarning: Unverified HTTPS request is being made. Adding certificate verification is strongly advised. See: https://urllib3.readthedocs.io/en/latest/advanced-usage.html#ssl-warnings\n",
            "  InsecureRequestWarning)\n"
          ],
          "name": "stderr"
        },
        {
          "output_type": "stream",
          "text": [
            "\n",
            "\n",
            "\n",
            "\n",
            "\n",
            "\n"
          ],
          "name": "stdout"
        },
        {
          "output_type": "display_data",
          "data": {
            "application/vnd.jupyter.widget-view+json": {
              "model_id": "d4150dd337414591a02de80c9d6a7097",
              "version_minor": 0,
              "version_major": 2
            },
            "text/plain": [
              "HBox(children=(FloatProgress(value=1.0, bar_style='info', max=1.0), HTML(value='')))"
            ]
          },
          "metadata": {
            "tags": []
          }
        },
        {
          "output_type": "stream",
          "text": [
            "\rShuffling and writing examples to /root/tensorflow_datasets/cifar10/3.0.0.incompleteJGSYTT/cifar10-train.tfrecord\n"
          ],
          "name": "stdout"
        },
        {
          "output_type": "display_data",
          "data": {
            "application/vnd.jupyter.widget-view+json": {
              "model_id": "f951a4fb6d3047d39ff67ae16bc821b4",
              "version_minor": 0,
              "version_major": 2
            },
            "text/plain": [
              "HBox(children=(FloatProgress(value=0.0, max=50000.0), HTML(value='')))"
            ]
          },
          "metadata": {
            "tags": []
          }
        },
        {
          "output_type": "stream",
          "text": [
            "\r"
          ],
          "name": "stdout"
        },
        {
          "output_type": "display_data",
          "data": {
            "application/vnd.jupyter.widget-view+json": {
              "model_id": "88f17d37207f4dcf9443e85cbadb3d06",
              "version_minor": 0,
              "version_major": 2
            },
            "text/plain": [
              "HBox(children=(FloatProgress(value=1.0, bar_style='info', max=1.0), HTML(value='')))"
            ]
          },
          "metadata": {
            "tags": []
          }
        },
        {
          "output_type": "stream",
          "text": [
            "\rShuffling and writing examples to /root/tensorflow_datasets/cifar10/3.0.0.incompleteJGSYTT/cifar10-test.tfrecord\n"
          ],
          "name": "stdout"
        },
        {
          "output_type": "display_data",
          "data": {
            "application/vnd.jupyter.widget-view+json": {
              "model_id": "ee5261bc6ea4427ba345f89c0f571f56",
              "version_minor": 0,
              "version_major": 2
            },
            "text/plain": [
              "HBox(children=(FloatProgress(value=0.0, max=10000.0), HTML(value='')))"
            ]
          },
          "metadata": {
            "tags": []
          }
        },
        {
          "output_type": "stream",
          "text": [
            "\r\u001b[1mDataset cifar10 downloaded and prepared to /root/tensorflow_datasets/cifar10/3.0.0. Subsequent calls will reuse this data.\u001b[0m\n"
          ],
          "name": "stdout"
        }
      ]
    },
    {
      "cell_type": "code",
      "metadata": {
        "id": "ilCF74f9RqkO",
        "colab_type": "code",
        "colab": {}
      },
      "source": [
        "ds_test = tfds.load('cifar10',split='test',shuffle_files=True)"
      ],
      "execution_count": 6,
      "outputs": []
    },
    {
      "cell_type": "markdown",
      "metadata": {
        "id": "v1F74LHD2Qnw",
        "colab_type": "text"
      },
      "source": [
        "**Make a model**\n",
        "\n",
        "We create a simpel convolutional neural network, with the special model interface we made for the PGDL competition."
      ]
    },
    {
      "cell_type": "code",
      "metadata": {
        "id": "36ILpvlJ0GJA",
        "colab_type": "code",
        "colab": {}
      },
      "source": [
        "model = Sequential(\n",
        "    [\n",
        "     wrap_layer(tf.keras.layers.Conv2D, filters=16, kernel_size=5, strides=2, input_shape=(32, 32, 3), activation='relu'),\n",
        "     wrap_layer(tf.keras.layers.MaxPool2D),\n",
        "     wrap_layer(tf.keras.layers.Conv2D, filters=32, kernel_size=3, strides=2, activation='relu'),\n",
        "     #wrap_layer(tf.keras.layers.MaxPool2D),\n",
        "     wrap_layer(tf.keras.layers.Conv2D, filters=32, kernel_size=3, strides=2, activation='relu',padding='same'),\n",
        "     wrap_layer(tf.keras.layers.Flatten),\n",
        "     wrap_layer(tf.keras.layers.Dense, units=120, activation='relu'),\n",
        "     wrap_layer(tf.keras.layers.Dense, units=84, activation='relu'),\n",
        "     wrap_layer(tf.keras.layers.Dense, units=10)\n",
        "    ]\n",
        ")"
      ],
      "execution_count": 34,
      "outputs": []
    },
    {
      "cell_type": "markdown",
      "metadata": {
        "id": "ks_DzSo379dV",
        "colab_type": "text"
      },
      "source": [
        "Since this model is not trained, we will manually set its initial weights."
      ]
    },
    {
      "cell_type": "code",
      "metadata": {
        "id": "2l_Zp4K2738I",
        "colab_type": "code",
        "colab": {}
      },
      "source": [
        "model.initial_weights = model.get_weights()#[np.ones(w.shape)*2 for w in model.get_weights()]"
      ],
      "execution_count": 23,
      "outputs": []
    },
    {
      "cell_type": "code",
      "metadata": {
        "id": "6vJ_MrLoOpqX",
        "colab_type": "code",
        "colab": {}
      },
      "source": [
        "# save initial weights\n",
        "model.save_weights(\"initial_weights.hdf5\")"
      ],
      "execution_count": 25,
      "outputs": []
    },
    {
      "cell_type": "code",
      "metadata": {
        "id": "P24d67LCRY7e",
        "colab_type": "code",
        "colab": {
          "base_uri": "https://localhost:8080/",
          "height": 425
        },
        "outputId": "a561bed7-9123-49ab-8d9e-5865917cfe97"
      },
      "source": [
        "model.summary()"
      ],
      "execution_count": 14,
      "outputs": [
        {
          "output_type": "stream",
          "text": [
            "Model: \"sequential_1\"\n",
            "_________________________________________________________________\n",
            "Layer (type)                 Output Shape              Param #   \n",
            "=================================================================\n",
            "wrapped_layer_8 (wrapped_lay (None, 14, 14, 16)        1216      \n",
            "_________________________________________________________________\n",
            "wrapped_layer_9 (wrapped_lay (None, 7, 7, 16)          0         \n",
            "_________________________________________________________________\n",
            "wrapped_layer_10 (wrapped_la (None, 3, 3, 32)          4640      \n",
            "_________________________________________________________________\n",
            "wrapped_layer_11 (wrapped_la (None, 2, 2, 32)          9248      \n",
            "_________________________________________________________________\n",
            "wrapped_layer_12 (wrapped_la (None, 128)               0         \n",
            "_________________________________________________________________\n",
            "wrapped_layer_13 (wrapped_la (None, 120)               15480     \n",
            "_________________________________________________________________\n",
            "wrapped_layer_14 (wrapped_la (None, 84)                10164     \n",
            "_________________________________________________________________\n",
            "wrapped_layer_15 (wrapped_la (None, 10)                850       \n",
            "=================================================================\n",
            "Total params: 41,598\n",
            "Trainable params: 41,598\n",
            "Non-trainable params: 0\n",
            "_________________________________________________________________\n"
          ],
          "name": "stdout"
        }
      ]
    },
    {
      "cell_type": "markdown",
      "metadata": {
        "id": "tLbKkqpV73lr",
        "colab_type": "text"
      },
      "source": [
        "# Training a model"
      ]
    },
    {
      "cell_type": "code",
      "metadata": {
        "id": "PyC8Dp5x701T",
        "colab_type": "code",
        "colab": {}
      },
      "source": [
        "iterator = iter(ds.batch(256))\n",
        "x =[]\n",
        "y =[]\n",
        "for i in range(196):\n",
        "  data = next(iterator)\n",
        "  x.append(data['image'])\n",
        "  y.append(data['label'])\n",
        "x = np.concatenate(x,axis=0)\n",
        "y = np.concatenate(y,axis=0) \n",
        "x = x/255\n",
        "one_hot = np.zeros((len(y),10))\n",
        "one_hot[np.arange(len(y)),y] = 1\n",
        "y= one_hot"
      ],
      "execution_count": 15,
      "outputs": []
    },
    {
      "cell_type": "code",
      "metadata": {
        "id": "w2kkfmTx-4AV",
        "colab_type": "code",
        "colab": {
          "base_uri": "https://localhost:8080/",
          "height": 1000
        },
        "outputId": "96439cbf-ab8c-416c-a567-7ea1642fb38e"
      },
      "source": [
        "opt = tf.keras.optimizers.Adam()\n",
        "loss_fn = tf.keras.losses.CategoricalCrossentropy(from_logits=True)\n",
        "model.compile(optimizer=opt, loss=loss_fn, metrics=['accuracy'])\n",
        "model.fit(x,y,batch_size=128,epochs=100)"
      ],
      "execution_count": 16,
      "outputs": [
        {
          "output_type": "stream",
          "text": [
            "Epoch 1/100\n",
            "391/391 [==============================] - 2s 4ms/step - loss: 1.8126 - accuracy: 0.3307\n",
            "Epoch 2/100\n",
            "391/391 [==============================] - 1s 4ms/step - loss: 1.5042 - accuracy: 0.4503\n",
            "Epoch 3/100\n",
            "391/391 [==============================] - 1s 4ms/step - loss: 1.3921 - accuracy: 0.4980\n",
            "Epoch 4/100\n",
            "391/391 [==============================] - 1s 4ms/step - loss: 1.3142 - accuracy: 0.5317\n",
            "Epoch 5/100\n",
            "391/391 [==============================] - 2s 4ms/step - loss: 1.2430 - accuracy: 0.5582\n",
            "Epoch 6/100\n",
            "391/391 [==============================] - 1s 4ms/step - loss: 1.1921 - accuracy: 0.5762\n",
            "Epoch 7/100\n",
            "391/391 [==============================] - 1s 4ms/step - loss: 1.1535 - accuracy: 0.5917\n",
            "Epoch 8/100\n",
            "391/391 [==============================] - 1s 4ms/step - loss: 1.1140 - accuracy: 0.6036\n",
            "Epoch 9/100\n",
            "391/391 [==============================] - 1s 4ms/step - loss: 1.0845 - accuracy: 0.6150\n",
            "Epoch 10/100\n",
            "391/391 [==============================] - 1s 4ms/step - loss: 1.0559 - accuracy: 0.6267\n",
            "Epoch 11/100\n",
            "391/391 [==============================] - 1s 4ms/step - loss: 1.0249 - accuracy: 0.6377\n",
            "Epoch 12/100\n",
            "391/391 [==============================] - 1s 4ms/step - loss: 1.0001 - accuracy: 0.6473\n",
            "Epoch 13/100\n",
            "391/391 [==============================] - 1s 4ms/step - loss: 0.9787 - accuracy: 0.6538\n",
            "Epoch 14/100\n",
            "391/391 [==============================] - 2s 4ms/step - loss: 0.9552 - accuracy: 0.6648\n",
            "Epoch 15/100\n",
            "391/391 [==============================] - 2s 4ms/step - loss: 0.9306 - accuracy: 0.6703\n",
            "Epoch 16/100\n",
            "391/391 [==============================] - 2s 4ms/step - loss: 0.9099 - accuracy: 0.6790\n",
            "Epoch 17/100\n",
            "391/391 [==============================] - 1s 4ms/step - loss: 0.8866 - accuracy: 0.6868\n",
            "Epoch 18/100\n",
            "391/391 [==============================] - 1s 4ms/step - loss: 0.8673 - accuracy: 0.6944\n",
            "Epoch 19/100\n",
            "391/391 [==============================] - 1s 4ms/step - loss: 0.8515 - accuracy: 0.6986\n",
            "Epoch 20/100\n",
            "391/391 [==============================] - 1s 4ms/step - loss: 0.8342 - accuracy: 0.7059\n",
            "Epoch 21/100\n",
            "391/391 [==============================] - 1s 4ms/step - loss: 0.8125 - accuracy: 0.7127\n",
            "Epoch 22/100\n",
            "391/391 [==============================] - 1s 4ms/step - loss: 0.7962 - accuracy: 0.7174\n",
            "Epoch 23/100\n",
            "391/391 [==============================] - 1s 4ms/step - loss: 0.7787 - accuracy: 0.7259\n",
            "Epoch 24/100\n",
            "391/391 [==============================] - 2s 4ms/step - loss: 0.7659 - accuracy: 0.7316\n",
            "Epoch 25/100\n",
            "391/391 [==============================] - 1s 4ms/step - loss: 0.7500 - accuracy: 0.7358\n",
            "Epoch 26/100\n",
            "391/391 [==============================] - 1s 4ms/step - loss: 0.7377 - accuracy: 0.7392\n",
            "Epoch 27/100\n",
            "391/391 [==============================] - 1s 4ms/step - loss: 0.7300 - accuracy: 0.7425\n",
            "Epoch 28/100\n",
            "391/391 [==============================] - 2s 4ms/step - loss: 0.7095 - accuracy: 0.7502\n",
            "Epoch 29/100\n",
            "391/391 [==============================] - 1s 4ms/step - loss: 0.6971 - accuracy: 0.7528\n",
            "Epoch 30/100\n",
            "391/391 [==============================] - 1s 4ms/step - loss: 0.6865 - accuracy: 0.7571\n",
            "Epoch 31/100\n",
            "391/391 [==============================] - 1s 4ms/step - loss: 0.6740 - accuracy: 0.7618\n",
            "Epoch 32/100\n",
            "391/391 [==============================] - 2s 4ms/step - loss: 0.6600 - accuracy: 0.7668\n",
            "Epoch 33/100\n",
            "391/391 [==============================] - 1s 4ms/step - loss: 0.6483 - accuracy: 0.7703\n",
            "Epoch 34/100\n",
            "391/391 [==============================] - 2s 4ms/step - loss: 0.6289 - accuracy: 0.7774\n",
            "Epoch 35/100\n",
            "391/391 [==============================] - 2s 4ms/step - loss: 0.6284 - accuracy: 0.7766\n",
            "Epoch 36/100\n",
            "391/391 [==============================] - 2s 4ms/step - loss: 0.6126 - accuracy: 0.7826\n",
            "Epoch 37/100\n",
            "391/391 [==============================] - 1s 4ms/step - loss: 0.5981 - accuracy: 0.7897\n",
            "Epoch 38/100\n",
            "391/391 [==============================] - 1s 4ms/step - loss: 0.5919 - accuracy: 0.7903\n",
            "Epoch 39/100\n",
            "391/391 [==============================] - 1s 4ms/step - loss: 0.5807 - accuracy: 0.7931\n",
            "Epoch 40/100\n",
            "391/391 [==============================] - 1s 4ms/step - loss: 0.5751 - accuracy: 0.7957\n",
            "Epoch 41/100\n",
            "391/391 [==============================] - 1s 4ms/step - loss: 0.5671 - accuracy: 0.7968\n",
            "Epoch 42/100\n",
            "391/391 [==============================] - 2s 4ms/step - loss: 0.5530 - accuracy: 0.8041\n",
            "Epoch 43/100\n",
            "391/391 [==============================] - 1s 4ms/step - loss: 0.5472 - accuracy: 0.8061\n",
            "Epoch 44/100\n",
            "391/391 [==============================] - 2s 4ms/step - loss: 0.5312 - accuracy: 0.8102\n",
            "Epoch 45/100\n",
            "391/391 [==============================] - 1s 4ms/step - loss: 0.5302 - accuracy: 0.8096\n",
            "Epoch 46/100\n",
            "391/391 [==============================] - 1s 4ms/step - loss: 0.5054 - accuracy: 0.8187\n",
            "Epoch 47/100\n",
            "391/391 [==============================] - 1s 4ms/step - loss: 0.5106 - accuracy: 0.8172\n",
            "Epoch 48/100\n",
            "391/391 [==============================] - 1s 4ms/step - loss: 0.5046 - accuracy: 0.8186\n",
            "Epoch 49/100\n",
            "391/391 [==============================] - 1s 4ms/step - loss: 0.4839 - accuracy: 0.8259\n",
            "Epoch 50/100\n",
            "391/391 [==============================] - 1s 4ms/step - loss: 0.4820 - accuracy: 0.8268\n",
            "Epoch 51/100\n",
            "391/391 [==============================] - 1s 4ms/step - loss: 0.4732 - accuracy: 0.8303\n",
            "Epoch 52/100\n",
            "391/391 [==============================] - 2s 4ms/step - loss: 0.4643 - accuracy: 0.8341\n",
            "Epoch 53/100\n",
            "391/391 [==============================] - 1s 4ms/step - loss: 0.4485 - accuracy: 0.8395\n",
            "Epoch 54/100\n",
            "391/391 [==============================] - 1s 4ms/step - loss: 0.4551 - accuracy: 0.8360\n",
            "Epoch 55/100\n",
            "391/391 [==============================] - 1s 4ms/step - loss: 0.4471 - accuracy: 0.8391\n",
            "Epoch 56/100\n",
            "391/391 [==============================] - 2s 4ms/step - loss: 0.4322 - accuracy: 0.8446\n",
            "Epoch 57/100\n",
            "391/391 [==============================] - 2s 4ms/step - loss: 0.4311 - accuracy: 0.8442\n",
            "Epoch 58/100\n",
            "391/391 [==============================] - 2s 4ms/step - loss: 0.4179 - accuracy: 0.8486\n",
            "Epoch 59/100\n",
            "391/391 [==============================] - 1s 4ms/step - loss: 0.4180 - accuracy: 0.8487\n",
            "Epoch 60/100\n",
            "391/391 [==============================] - 2s 4ms/step - loss: 0.4093 - accuracy: 0.8538\n",
            "Epoch 61/100\n",
            "391/391 [==============================] - 1s 4ms/step - loss: 0.4016 - accuracy: 0.8553\n",
            "Epoch 62/100\n",
            "391/391 [==============================] - 1s 4ms/step - loss: 0.3912 - accuracy: 0.8577\n",
            "Epoch 63/100\n",
            "391/391 [==============================] - 1s 4ms/step - loss: 0.3924 - accuracy: 0.8587\n",
            "Epoch 64/100\n",
            "391/391 [==============================] - 1s 4ms/step - loss: 0.3868 - accuracy: 0.8600\n",
            "Epoch 65/100\n",
            "391/391 [==============================] - 1s 4ms/step - loss: 0.3807 - accuracy: 0.8637\n",
            "Epoch 66/100\n",
            "391/391 [==============================] - 1s 4ms/step - loss: 0.3669 - accuracy: 0.8682\n",
            "Epoch 67/100\n",
            "391/391 [==============================] - 1s 4ms/step - loss: 0.3664 - accuracy: 0.8687\n",
            "Epoch 68/100\n",
            "391/391 [==============================] - 1s 4ms/step - loss: 0.3619 - accuracy: 0.8689\n",
            "Epoch 69/100\n",
            "391/391 [==============================] - 1s 4ms/step - loss: 0.3709 - accuracy: 0.8654\n",
            "Epoch 70/100\n",
            "391/391 [==============================] - 2s 4ms/step - loss: 0.3488 - accuracy: 0.8739\n",
            "Epoch 71/100\n",
            "391/391 [==============================] - 1s 4ms/step - loss: 0.3499 - accuracy: 0.8734\n",
            "Epoch 72/100\n",
            "391/391 [==============================] - 1s 4ms/step - loss: 0.3343 - accuracy: 0.8784\n",
            "Epoch 73/100\n",
            "391/391 [==============================] - 1s 4ms/step - loss: 0.3363 - accuracy: 0.8774\n",
            "Epoch 74/100\n",
            "391/391 [==============================] - 1s 4ms/step - loss: 0.3386 - accuracy: 0.8763\n",
            "Epoch 75/100\n",
            "391/391 [==============================] - 1s 4ms/step - loss: 0.3288 - accuracy: 0.8802\n",
            "Epoch 76/100\n",
            "391/391 [==============================] - 1s 4ms/step - loss: 0.3164 - accuracy: 0.8868\n",
            "Epoch 77/100\n",
            "391/391 [==============================] - 1s 4ms/step - loss: 0.3188 - accuracy: 0.8837\n",
            "Epoch 78/100\n",
            "391/391 [==============================] - 1s 4ms/step - loss: 0.3073 - accuracy: 0.8892\n",
            "Epoch 79/100\n",
            "391/391 [==============================] - 1s 4ms/step - loss: 0.3132 - accuracy: 0.8864\n",
            "Epoch 80/100\n",
            "391/391 [==============================] - 1s 4ms/step - loss: 0.3103 - accuracy: 0.8869\n",
            "Epoch 81/100\n",
            "391/391 [==============================] - 1s 4ms/step - loss: 0.3076 - accuracy: 0.8880\n",
            "Epoch 82/100\n",
            "391/391 [==============================] - 1s 4ms/step - loss: 0.2986 - accuracy: 0.8920\n",
            "Epoch 83/100\n",
            "391/391 [==============================] - 1s 4ms/step - loss: 0.2967 - accuracy: 0.8932\n",
            "Epoch 84/100\n",
            "391/391 [==============================] - 1s 4ms/step - loss: 0.2919 - accuracy: 0.8930\n",
            "Epoch 85/100\n",
            "391/391 [==============================] - 1s 4ms/step - loss: 0.2907 - accuracy: 0.8959\n",
            "Epoch 86/100\n",
            "391/391 [==============================] - 2s 4ms/step - loss: 0.2848 - accuracy: 0.8960\n",
            "Epoch 87/100\n",
            "391/391 [==============================] - 1s 4ms/step - loss: 0.2835 - accuracy: 0.8969\n",
            "Epoch 88/100\n",
            "391/391 [==============================] - 1s 4ms/step - loss: 0.2707 - accuracy: 0.9012\n",
            "Epoch 89/100\n",
            "391/391 [==============================] - 1s 4ms/step - loss: 0.2785 - accuracy: 0.8984\n",
            "Epoch 90/100\n",
            "391/391 [==============================] - 1s 4ms/step - loss: 0.2824 - accuracy: 0.8967\n",
            "Epoch 91/100\n",
            "391/391 [==============================] - 1s 4ms/step - loss: 0.2662 - accuracy: 0.9028\n",
            "Epoch 92/100\n",
            "391/391 [==============================] - 1s 4ms/step - loss: 0.2664 - accuracy: 0.9028\n",
            "Epoch 93/100\n",
            "391/391 [==============================] - 1s 4ms/step - loss: 0.2674 - accuracy: 0.9015\n",
            "Epoch 94/100\n",
            "391/391 [==============================] - 1s 4ms/step - loss: 0.2443 - accuracy: 0.9115\n",
            "Epoch 95/100\n",
            "391/391 [==============================] - 2s 4ms/step - loss: 0.2570 - accuracy: 0.9062\n",
            "Epoch 96/100\n",
            "391/391 [==============================] - 1s 4ms/step - loss: 0.2544 - accuracy: 0.9086\n",
            "Epoch 97/100\n",
            "391/391 [==============================] - 1s 4ms/step - loss: 0.2638 - accuracy: 0.9026\n",
            "Epoch 98/100\n",
            "391/391 [==============================] - 1s 4ms/step - loss: 0.2498 - accuracy: 0.9095\n",
            "Epoch 99/100\n",
            "391/391 [==============================] - 2s 4ms/step - loss: 0.2458 - accuracy: 0.9088\n",
            "Epoch 100/100\n",
            "391/391 [==============================] - 1s 4ms/step - loss: 0.2461 - accuracy: 0.9106\n"
          ],
          "name": "stdout"
        },
        {
          "output_type": "execute_result",
          "data": {
            "text/plain": [
              "<tensorflow.python.keras.callbacks.History at 0x7fc589f2eb38>"
            ]
          },
          "metadata": {
            "tags": []
          },
          "execution_count": 16
        }
      ]
    },
    {
      "cell_type": "code",
      "metadata": {
        "id": "TQ5JOX_l-3va",
        "colab_type": "code",
        "colab": {}
      },
      "source": [
        "test_iter = iter(ds_test.batch(256))\n",
        "x_test = []\n",
        "y_test = []\n",
        "\n",
        "for i in range(40 ):\n",
        "  data = next(test_iter)\n",
        "  x_test.append(data['image'])\n",
        "  y_test.append(data['label'])\n",
        "x_test = np.concatenate(x_test,axis=0)\n",
        "x_test = x_test/255\n",
        "y_test = np.concatenate(y_test,axis=0)\n",
        "one_hot = np.zeros((len(y_test),10))\n",
        "one_hot[np.arange(len(y_test)),y_test] = 1\n",
        "y_test = one_hot \n",
        "\n"
      ],
      "execution_count": 17,
      "outputs": []
    },
    {
      "cell_type": "code",
      "metadata": {
        "id": "rDlM5s75T0Gj",
        "colab_type": "code",
        "colab": {
          "base_uri": "https://localhost:8080/",
          "height": 51
        },
        "outputId": "3f036937-d529-4dcb-a0d8-7946bcd68cf1"
      },
      "source": [
        "model.evaluate(x_test,y_test,batch_size=256)"
      ],
      "execution_count": 18,
      "outputs": [
        {
          "output_type": "stream",
          "text": [
            "40/40 [==============================] - 0s 5ms/step - loss: 2.6517 - accuracy: 0.5976\n"
          ],
          "name": "stdout"
        },
        {
          "output_type": "execute_result",
          "data": {
            "text/plain": [
              "[2.651672840118408, 0.597599983215332]"
            ]
          },
          "metadata": {
            "tags": []
          },
          "execution_count": 18
        }
      ]
    },
    {
      "cell_type": "markdown",
      "metadata": {
        "id": "iakjXEF5T-sX",
        "colab_type": "text"
      },
      "source": [
        "# save a model"
      ]
    },
    {
      "cell_type": "code",
      "metadata": {
        "id": "S5DmF3UTT9Ob",
        "colab_type": "code",
        "colab": {}
      },
      "source": [
        ""
      ],
      "execution_count": null,
      "outputs": []
    },
    {
      "cell_type": "markdown",
      "metadata": {
        "id": "-YN2_KlsUCw9",
        "colab_type": "text"
      },
      "source": [
        "# load a model"
      ]
    },
    {
      "cell_type": "code",
      "metadata": {
        "id": "wJqtwAzAUHE0",
        "colab_type": "code",
        "colab": {}
      },
      "source": [
        ""
      ],
      "execution_count": null,
      "outputs": []
    },
    {
      "cell_type": "markdown",
      "metadata": {
        "id": "VFfTFzLt3lov",
        "colab_type": "text"
      },
      "source": [
        "## Evaluate complexity measure"
      ]
    },
    {
      "cell_type": "code",
      "metadata": {
        "id": "BycMbveZsJEi",
        "colab_type": "code",
        "colab": {}
      },
      "source": [
        "# from google.colab import drive\n",
        "# drive.mount('/content/drive')"
      ],
      "execution_count": 3,
      "outputs": []
    },
    {
      "cell_type": "code",
      "metadata": {
        "id": "pshxT7ptcf6K",
        "colab_type": "code",
        "colab": {}
      },
      "source": [
        "# !python '/content/drive/My Drive/PGDL/submission files/ingestion_program/ingestion.py' '/content/drive/My Drive/PGDL/submission files/sample_data' '/content/drive/My Drive/PGDL/submission files/sample_result_submission'  '/content/drive/My Drive/PGDL/submission files/ingestion_program/' '/content/margin_normalised_path_norm.zip'"
      ],
      "execution_count": 2,
      "outputs": []
    },
    {
      "cell_type": "code",
      "metadata": {
        "id": "pwOLwf1_eQUC",
        "colab_type": "code",
        "colab": {}
      },
      "source": [
        "# !python '/content/drive/My Drive/PGDL/submission files/scoring_program/score.py' '/content/drive/My Drive/PGDL/submission files/sample_data' '/content/drive/My Drive/PGDL/submission files/sample_result_submission' '/content/drive/My Drive/PGDL/submission files/sample_score'\n"
      ],
      "execution_count": 1,
      "outputs": []
    },
    {
      "cell_type": "code",
      "metadata": {
        "id": "R8jKg_HVoaUF",
        "colab_type": "code",
        "colab": {}
      },
      "source": [
        ""
      ],
      "execution_count": null,
      "outputs": []
    }
  ]
}